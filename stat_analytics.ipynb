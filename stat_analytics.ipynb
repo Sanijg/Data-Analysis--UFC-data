{
 "cells": [
  {
   "cell_type": "markdown",
   "metadata": {},
   "source": [
    "## Import Libraries\n",
    "<ul>\n",
    "<li><b>sqllite3</b> for interacting with a local relational database; and</li>\n",
    "<li><b>pandas</b> and <b>numpy</b> for data ingestion and manipulation.</li>\n",
    "<li><b>matplotlib</b> for data visualization</li>\n",
    "<li>specific methods from <b>sklearn</b> for Machine Learning"
   ]
  },
  {
   "cell_type": "code",
   "execution_count": 1,
   "metadata": {},
   "outputs": [],
   "source": [
    "import pandas as pd\n",
    "import numpy as np\n",
    "import matplotlib.pyplot as plt\n",
    "from sklearn.cluster import KMeans\n",
    "from sklearn.preprocessing import scale\n",
    "import re\n",
    "import unicodedata"
   ]
  },
  {
   "cell_type": "markdown",
   "metadata": {},
   "source": [
    "#### Ingest Data\n",
    "\n",
    "Now, read the dataset using the commands below. "
   ]
  },
  {
   "cell_type": "code",
   "execution_count": 2,
   "metadata": {},
   "outputs": [],
   "source": [
    "fighters = pd.read_csv('fighter_basics.csv')"
   ]
  },
  {
   "cell_type": "markdown",
   "metadata": {},
   "source": [
    " <h1 style=\"font-size:2em;color:#2467C0\">Exploring Data</h1>"
   ]
  },
  {
   "cell_type": "code",
   "execution_count": 3,
   "metadata": {},
   "outputs": [
    {
     "data": {
      "text/plain": [
       "Index(['Name', 'Born', 'Height', 'Weight', 'Division', 'Reach', 'Style'], dtype='object')"
      ]
     },
     "execution_count": 3,
     "metadata": {},
     "output_type": "execute_result"
    }
   ],
   "source": [
    "fighters.columns"
   ]
  },
  {
   "cell_type": "code",
   "execution_count": 4,
   "metadata": {},
   "outputs": [
    {
     "data": {
      "text/plain": [
       "'78\\xa01⁄2\\xa0in (199\\xa0cm) [1]'"
      ]
     },
     "execution_count": 4,
     "metadata": {},
     "output_type": "execute_result"
    }
   ],
   "source": [
    "fighters['Reach'][11]"
   ]
  },
  {
   "cell_type": "code",
   "execution_count": 5,
   "metadata": {},
   "outputs": [],
   "source": [
    "fighters['Birth_date'] = fighters['Born'].str.extract(r'(\\d\\d\\d\\d.\\d\\d.\\d\\d)')"
   ]
  },
  {
   "cell_type": "code",
   "execution_count": 6,
   "metadata": {},
   "outputs": [
    {
     "data": {
      "text/plain": [
       "26"
      ]
     },
     "execution_count": 6,
     "metadata": {},
     "output_type": "execute_result"
    }
   ],
   "source": [
    "fighters['Birth_date'].isnull().sum()"
   ]
  },
  {
   "cell_type": "code",
   "execution_count": 7,
   "metadata": {},
   "outputs": [],
   "source": [
    "nan_rows = fighters[fighters['Birth_date'].isnull()]\n",
    "#nan_rows"
   ]
  },
  {
   "cell_type": "code",
   "execution_count": 8,
   "metadata": {},
   "outputs": [],
   "source": [
    "fighters['dob'] = pd.to_datetime(fighters['Birth_date'], errors='coerce')\n",
    "now = pd.to_datetime('now')\n",
    "fighters['Age']= (now - fighters['dob']).astype('<m8[Y]') "
   ]
  },
  {
   "cell_type": "code",
   "execution_count": 9,
   "metadata": {},
   "outputs": [
    {
     "data": {
      "text/plain": [
       "26"
      ]
     },
     "execution_count": 9,
     "metadata": {},
     "output_type": "execute_result"
    }
   ],
   "source": [
    "fighters['Age'].isnull().sum()"
   ]
  },
  {
   "cell_type": "code",
   "execution_count": 10,
   "metadata": {},
   "outputs": [],
   "source": [
    "fighters = fighters.drop(['Born', 'dob'], axis=1)"
   ]
  },
  {
   "cell_type": "markdown",
   "metadata": {},
   "source": [
    "REMOVING THE ENCODING"
   ]
  },
  {
   "cell_type": "code",
   "execution_count": 11,
   "metadata": {},
   "outputs": [],
   "source": [
    "fighters['Height']= fighters[\"Height\"].apply(lambda x: unicodedata.normalize(\"NFKD\", x))\n",
    "fighters['Weight']= fighters[\"Weight\"].apply(lambda x: unicodedata.normalize(\"NFKD\", x))\n",
    "fighters['Reach']= fighters[\"Reach\"].apply(lambda x: unicodedata.normalize(\"NFKD\", x))"
   ]
  },
  {
   "cell_type": "code",
   "execution_count": 12,
   "metadata": {},
   "outputs": [
    {
     "data": {
      "text/plain": [
       "'78 1⁄2 in (199 cm) [1]'"
      ]
     },
     "execution_count": 12,
     "metadata": {},
     "output_type": "execute_result"
    }
   ],
   "source": [
    "fighters['Reach'][11]"
   ]
  },
  {
   "cell_type": "markdown",
   "metadata": {},
   "source": [
    "CONVERTING HEIGHT TO INCHES."
   ]
  },
  {
   "cell_type": "code",
   "execution_count": 13,
   "metadata": {},
   "outputs": [],
   "source": [
    "#r2 = re.compile(r\"([0-9]+)\\\\xa0ft ([0-9]*\\.?[0-9]+)\\\\xa0in\")\n",
    "def get_height(el):\n",
    "    r = re.compile(r\"([0-9]+) ft ([0-9]*\\.?[0-9]+) in\")\n",
    "    m = r.match(el)\n",
    "    if m == None:\n",
    "        return float('NaN')\n",
    "    else:\n",
    "        return int(m.group(1))*12 + float(m.group(2))"
   ]
  },
  {
   "cell_type": "code",
   "execution_count": 14,
   "metadata": {},
   "outputs": [],
   "source": [
    "fighters['Height'] = fighters[\"Height\"].apply(lambda x: get_height(x))"
   ]
  },
  {
   "cell_type": "markdown",
   "metadata": {},
   "source": [
    "CONVERTING WEIGHTS TO POUNDS AND REACH TO INCHES."
   ]
  },
  {
   "cell_type": "code",
   "execution_count": 15,
   "metadata": {},
   "outputs": [
    {
     "name": "stdout",
     "output_type": "stream",
     "text": [
      "255.0\n"
     ]
    }
   ],
   "source": [
    "def get_weight(el):\n",
    "    r = re.compile(r\"([0-9]{2,3}\\.?[0-9]+) lb\")\n",
    "    m = r.match(el)\n",
    "    if m == None:\n",
    "        return float('NaN')\n",
    "    else:\n",
    "        return float(m.group(1))\n",
    "print(get_weight('255 lb (107 kg; 16 st 11 lb)'))"
   ]
  },
  {
   "cell_type": "code",
   "execution_count": 16,
   "metadata": {},
   "outputs": [],
   "source": [
    "def get_reach(el):\n",
    "    r = re.compile(r\"([0-9]{1,2}\\.?[0-9]+) in\")\n",
    "    m = r.match(el)\n",
    "    if m == None:\n",
    "        m = (re.compile(r\"([0-9]{1,2}) .+ in\")).match(el)\n",
    "        if m != None:\n",
    "            return int(m.group(1))+0.5\n",
    "    elif m == None:\n",
    "        return float('NaN')\n",
    "    else:\n",
    "        return float(m.group(1))\n",
    "#print(get_reach(fighters['Reach'][11]))"
   ]
  },
  {
   "cell_type": "code",
   "execution_count": 17,
   "metadata": {},
   "outputs": [],
   "source": [
    "fighters['Weight'] = fighters[\"Weight\"].apply(lambda x: get_weight(x))\n",
    "fighters['Reach'] = fighters[\"Reach\"].apply(lambda x: get_reach(x))"
   ]
  },
  {
   "cell_type": "code",
   "execution_count": 18,
   "metadata": {},
   "outputs": [
    {
     "data": {
      "text/html": [
       "<div>\n",
       "<style scoped>\n",
       "    .dataframe tbody tr th:only-of-type {\n",
       "        vertical-align: middle;\n",
       "    }\n",
       "\n",
       "    .dataframe tbody tr th {\n",
       "        vertical-align: top;\n",
       "    }\n",
       "\n",
       "    .dataframe thead th {\n",
       "        text-align: right;\n",
       "    }\n",
       "</style>\n",
       "<table border=\"1\" class=\"dataframe\">\n",
       "  <thead>\n",
       "    <tr style=\"text-align: right;\">\n",
       "      <th></th>\n",
       "      <th>Name</th>\n",
       "      <th>Height</th>\n",
       "      <th>Weight</th>\n",
       "      <th>Division</th>\n",
       "      <th>Reach</th>\n",
       "      <th>Style</th>\n",
       "      <th>Birth_date</th>\n",
       "      <th>Age</th>\n",
       "    </tr>\n",
       "  </thead>\n",
       "  <tbody>\n",
       "    <tr>\n",
       "      <th>0</th>\n",
       "      <td>Leon Edwards</td>\n",
       "      <td>74.0</td>\n",
       "      <td>170.0</td>\n",
       "      <td>Middleweight Welterweight</td>\n",
       "      <td>74.0</td>\n",
       "      <td>Not Available</td>\n",
       "      <td>1991-08-25</td>\n",
       "      <td>27.0</td>\n",
       "    </tr>\n",
       "    <tr>\n",
       "      <th>1</th>\n",
       "      <td>Rafael dos Anjos</td>\n",
       "      <td>68.0</td>\n",
       "      <td>170.0</td>\n",
       "      <td>Lightweight (2004-2016) Welterweight (2017-pre...</td>\n",
       "      <td>70.0</td>\n",
       "      <td>Brazilian Jiu-Jitsu, Muay Thai</td>\n",
       "      <td>1984-10-26</td>\n",
       "      <td>34.0</td>\n",
       "    </tr>\n",
       "    <tr>\n",
       "      <th>2</th>\n",
       "      <td>Walt Harris</td>\n",
       "      <td>77.0</td>\n",
       "      <td>258.0</td>\n",
       "      <td>Heavyweight</td>\n",
       "      <td>81.0</td>\n",
       "      <td>Not Available</td>\n",
       "      <td>1983-06-10</td>\n",
       "      <td>36.0</td>\n",
       "    </tr>\n",
       "    <tr>\n",
       "      <th>3</th>\n",
       "      <td>Aleksei Oleinik</td>\n",
       "      <td>74.0</td>\n",
       "      <td>235.0</td>\n",
       "      <td>HeavyweightLight heavyweightMiddleweight</td>\n",
       "      <td>80.0</td>\n",
       "      <td>Combat Sambo, Jujutsu, Brazilian Jiu Jitsu</td>\n",
       "      <td>1977-06-25</td>\n",
       "      <td>42.0</td>\n",
       "    </tr>\n",
       "    <tr>\n",
       "      <th>4</th>\n",
       "      <td>Greg Hardy</td>\n",
       "      <td>77.0</td>\n",
       "      <td>265.0</td>\n",
       "      <td>Heavyweight</td>\n",
       "      <td>80.5</td>\n",
       "      <td>Boxing</td>\n",
       "      <td>1988-07-28</td>\n",
       "      <td>31.0</td>\n",
       "    </tr>\n",
       "  </tbody>\n",
       "</table>\n",
       "</div>"
      ],
      "text/plain": [
       "               Name  Height  Weight  \\\n",
       "0      Leon Edwards    74.0   170.0   \n",
       "1  Rafael dos Anjos    68.0   170.0   \n",
       "2       Walt Harris    77.0   258.0   \n",
       "3   Aleksei Oleinik    74.0   235.0   \n",
       "4        Greg Hardy    77.0   265.0   \n",
       "\n",
       "                                            Division  Reach  \\\n",
       "0                          Middleweight Welterweight   74.0   \n",
       "1  Lightweight (2004-2016) Welterweight (2017-pre...   70.0   \n",
       "2                                        Heavyweight   81.0   \n",
       "3           HeavyweightLight heavyweightMiddleweight   80.0   \n",
       "4                                        Heavyweight   80.5   \n",
       "\n",
       "                                        Style  Birth_date   Age  \n",
       "0                               Not Available  1991-08-25  27.0  \n",
       "1              Brazilian Jiu-Jitsu, Muay Thai  1984-10-26  34.0  \n",
       "2                               Not Available  1983-06-10  36.0  \n",
       "3  Combat Sambo, Jujutsu, Brazilian Jiu Jitsu  1977-06-25  42.0  \n",
       "4                                      Boxing  1988-07-28  31.0  "
      ]
     },
     "execution_count": 18,
     "metadata": {},
     "output_type": "execute_result"
    }
   ],
   "source": [
    "fighters.head()"
   ]
  },
  {
   "cell_type": "markdown",
   "metadata": {},
   "source": [
    "Curating Division column. Usually fighters go up to the class as they get older. So a Logic that fits this assumption is used to get Single division. Below is the list of current UFC divisions.\n"
   ]
  },
  {
   "cell_type": "markdown",
   "metadata": {},
   "source": [
    "Strawweight\n",
    "Flyweight\n",
    "Bantamweight\n",
    "Featherweight\n",
    "Lightweight\n",
    "Welterweight\n",
    "Middleweight\n",
    "Light Heavyweight\n",
    "Heavyweight"
   ]
  },
  {
   "cell_type": "code",
   "execution_count": 19,
   "metadata": {},
   "outputs": [],
   "source": [
    "Attribute = ['Strawweight', 'Flyweight', 'Bantamweight', 'Featherweight', 'Lightweight', 'Welterweight', 'Middleweight', 'Light heavyweight', 'Light Heavyweight', 'Heavyweight']"
   ]
  },
  {
   "cell_type": "code",
   "execution_count": 20,
   "metadata": {},
   "outputs": [],
   "source": [
    "def get_division(el):\n",
    "    cl = \"None\"\n",
    "    for att in Attribute:\n",
    "        if att in el:\n",
    "            cl = att\n",
    "    if cl == 'None':\n",
    "        return float('NaN')\n",
    "    else:\n",
    "        return cl\n",
    "#print(get_division('CruiserweightLight heavyweightSuper middleweight'))"
   ]
  },
  {
   "cell_type": "code",
   "execution_count": 21,
   "metadata": {},
   "outputs": [],
   "source": [
    "fighters['Division'] = fighters[\"Division\"].apply(lambda x: get_division(x))"
   ]
  },
  {
   "cell_type": "markdown",
   "metadata": {},
   "source": [
    "Predicting weight class from weight."
   ]
  },
  {
   "cell_type": "code",
   "execution_count": 22,
   "metadata": {},
   "outputs": [],
   "source": [
    "#fighters"
   ]
  },
  {
   "cell_type": "code",
   "execution_count": 23,
   "metadata": {},
   "outputs": [],
   "source": [
    "#Attribute = ['Strawweight', 'Flyweight', 'Bantamweight', 'Featherweight', 'Lightweight', 'Welterweight', 'Middleweight', 'Light heavyweight', 'Light Heavyweight', 'Heavyweight']\n",
    "def check_weight(w):\n",
    "    if w>90 and w<=115:\n",
    "        return \"Strawweight\"\n",
    "    elif w>115 and w<=125:\n",
    "        return \"Flyweight\"\n",
    "    elif w>125 and w<=135:\n",
    "        return \"Bantamweight\"\n",
    "    elif w>135 and w<=145:\n",
    "        return \"Featherweight\"\n",
    "    elif w>145 and w<=155:\n",
    "        return \"Lightweight\"\n",
    "    elif w>155 and w<=170:\n",
    "        return \"Welterweight\"\n",
    "    elif w>170 and w<=185:\n",
    "        return \"Middleweight\"\n",
    "    elif w>185 and w<=205:\n",
    "        return \"Light Heavyweight\"\n",
    "    elif w>205 and w<=265:\n",
    "        return \"Heavyweight\"\n",
    "    else:\n",
    "        return float('NaN')"
   ]
  },
  {
   "cell_type": "code",
   "execution_count": 24,
   "metadata": {},
   "outputs": [
    {
     "name": "stderr",
     "output_type": "stream",
     "text": [
      "C:\\Users\\Sanij\\Anaconda3\\lib\\site-packages\\ipykernel_launcher.py:6: SettingWithCopyWarning: \n",
      "A value is trying to be set on a copy of a slice from a DataFrame\n",
      "\n",
      "See the caveats in the documentation: http://pandas.pydata.org/pandas-docs/stable/indexing.html#indexing-view-versus-copy\n",
      "  \n"
     ]
    }
   ],
   "source": [
    "#def predict_division():\n",
    "for i in range(len(fighters['Division'])):\n",
    "    try:\n",
    "        if pd.isnull(fighters['Division'][i]):\n",
    "            #print(i)\n",
    "            fighters['Division'][i] = check_weight(fighters['Weight'][i])\n",
    "    except:\n",
    "        pass"
   ]
  },
  {
   "cell_type": "code",
   "execution_count": 25,
   "metadata": {},
   "outputs": [],
   "source": [
    "#fighters"
   ]
  },
  {
   "cell_type": "markdown",
   "metadata": {},
   "source": [
    "Now let's predict the missing height, weight and reach based on the average stats for that Division."
   ]
  },
  {
   "cell_type": "code",
   "execution_count": 26,
   "metadata": {},
   "outputs": [],
   "source": [
    "fighters['Height'] = fighters['Height'].fillna(fighters.groupby('Division')['Height'].transform('mean'))\n",
    "fighters['Weight'] = fighters['Weight'].fillna(fighters.groupby('Division')['Weight'].transform('mean'))\n",
    "fighters['Reach'] = fighters['Reach'].fillna(fighters.groupby('Division')['Reach'].transform('mean'))"
   ]
  },
  {
   "cell_type": "code",
   "execution_count": 27,
   "metadata": {},
   "outputs": [],
   "source": [
    "fighters['Style'] = fighters['Style'].replace('Not Available', np.nan, regex=True)"
   ]
  },
  {
   "cell_type": "code",
   "execution_count": 28,
   "metadata": {},
   "outputs": [
    {
     "data": {
      "text/plain": [
       "Index(['Name', 'Height', 'Weight', 'Division', 'Reach', 'Style', 'Birth_date',\n",
       "       'Age'],\n",
       "      dtype='object')"
      ]
     },
     "execution_count": 28,
     "metadata": {},
     "output_type": "execute_result"
    }
   ],
   "source": [
    "fighters.columns"
   ]
  },
  {
   "cell_type": "code",
   "execution_count": 29,
   "metadata": {},
   "outputs": [
    {
     "data": {
      "text/plain": [
       "Name            0\n",
       "Height          9\n",
       "Weight         12\n",
       "Division       17\n",
       "Reach          15\n",
       "Style         942\n",
       "Birth_date     26\n",
       "Age            26\n",
       "dtype: int64"
      ]
     },
     "execution_count": 29,
     "metadata": {},
     "output_type": "execute_result"
    }
   ],
   "source": [
    "fighters.isnull().sum(axis=0)"
   ]
  },
  {
   "cell_type": "markdown",
   "metadata": {},
   "source": [
    "# Which style is better in MMA?"
   ]
  },
  {
   "cell_type": "markdown",
   "metadata": {},
   "source": [
    "List out the available styles <br>\n",
    "Associate them with the methods of fight won.<br>\n",
    "Predict the remaining fighters' style with an appropriate similarity measure."
   ]
  },
  {
   "cell_type": "code",
   "execution_count": 30,
   "metadata": {},
   "outputs": [],
   "source": [
    "features = ['Name', 'Style']"
   ]
  },
  {
   "cell_type": "code",
   "execution_count": 31,
   "metadata": {},
   "outputs": [],
   "source": [
    "Yodha = fighters[features].copy(deep = True)"
   ]
  },
  {
   "cell_type": "code",
   "execution_count": 32,
   "metadata": {},
   "outputs": [
    {
     "data": {
      "text/html": [
       "<div>\n",
       "<style scoped>\n",
       "    .dataframe tbody tr th:only-of-type {\n",
       "        vertical-align: middle;\n",
       "    }\n",
       "\n",
       "    .dataframe tbody tr th {\n",
       "        vertical-align: top;\n",
       "    }\n",
       "\n",
       "    .dataframe thead th {\n",
       "        text-align: right;\n",
       "    }\n",
       "</style>\n",
       "<table border=\"1\" class=\"dataframe\">\n",
       "  <thead>\n",
       "    <tr style=\"text-align: right;\">\n",
       "      <th></th>\n",
       "      <th>Name</th>\n",
       "      <th>Style</th>\n",
       "    </tr>\n",
       "  </thead>\n",
       "  <tbody>\n",
       "    <tr>\n",
       "      <th>0</th>\n",
       "      <td>Leon Edwards</td>\n",
       "      <td>NaN</td>\n",
       "    </tr>\n",
       "    <tr>\n",
       "      <th>1</th>\n",
       "      <td>Rafael dos Anjos</td>\n",
       "      <td>Brazilian Jiu-Jitsu, Muay Thai</td>\n",
       "    </tr>\n",
       "    <tr>\n",
       "      <th>2</th>\n",
       "      <td>Walt Harris</td>\n",
       "      <td>NaN</td>\n",
       "    </tr>\n",
       "    <tr>\n",
       "      <th>3</th>\n",
       "      <td>Aleksei Oleinik</td>\n",
       "      <td>Combat Sambo, Jujutsu, Brazilian Jiu Jitsu</td>\n",
       "    </tr>\n",
       "    <tr>\n",
       "      <th>4</th>\n",
       "      <td>Greg Hardy</td>\n",
       "      <td>Boxing</td>\n",
       "    </tr>\n",
       "  </tbody>\n",
       "</table>\n",
       "</div>"
      ],
      "text/plain": [
       "               Name                                       Style\n",
       "0      Leon Edwards                                         NaN\n",
       "1  Rafael dos Anjos              Brazilian Jiu-Jitsu, Muay Thai\n",
       "2       Walt Harris                                         NaN\n",
       "3   Aleksei Oleinik  Combat Sambo, Jujutsu, Brazilian Jiu Jitsu\n",
       "4        Greg Hardy                                      Boxing"
      ]
     },
     "execution_count": 32,
     "metadata": {},
     "output_type": "execute_result"
    }
   ],
   "source": [
    "Yodha.head()"
   ]
  },
  {
   "cell_type": "markdown",
   "metadata": {},
   "source": [
    "Find unique styles."
   ]
  },
  {
   "cell_type": "code",
   "execution_count": 33,
   "metadata": {},
   "outputs": [],
   "source": [
    "lisT= []\n",
    "for style in Yodha['Style'].unique():\n",
    "    try:\n",
    "        for each in style.strip().split(','):\n",
    "            if each.strip() not in lisT:\n",
    "                lisT.append(each.strip())\n",
    "    except:\n",
    "        pass\n",
    "#print(lisT)"
   ]
  },
  {
   "cell_type": "markdown",
   "metadata": {},
   "source": [
    "Making list of ten popular martial arts style and their other names"
   ]
  },
  {
   "cell_type": "markdown",
   "metadata": {},
   "source": [
    "BJJ = 'Brazilian Jiu-Jitsu', 'Jujutsu', 'Brazilian Jiu Jitsu', 'BJJ', 'Gaidojutsu', 'Jiu Jitsu', 'Brazilian jiu-jitsu', '10th Planet Jiu-Jitsu', '[4] BJJ[4]', 'Luta Livre', 'Purple belt in Brazilian Jiu-Jitsu[2]', 'Brazilian Jiu-jitsu', 'Kempo • Kickboxing • Jujutsu', 'Brazilian Jiu-Jitsu[3]', 'BJJ[1]', 'BJJ[2]', 'Brazilian Jiu-Jitsu[1]', 'Jiu-jitsu', 'BadgeJitsu', 'Brazilian Jiu-Jitsu  Muay Thai[2]', 'Gracie Jiu-Jitsu', 'GJJ', 'Jujitsu', 'Ju-Jitsu', 'BJJ[3]', 'Submission Fighting',\n",
    "Muay Thai = 'Muay Thai', 'Muay Thai[1]', 'Muay Thai[2]', 'Muay Thai[6]', 'Brazilian Jiu-Jitsu  Muay Thai[2]', \n",
    "Sambo = 'Combat Sambo', 'Sambo', 'Submission Fighting',\n",
    "Boxing = 'Boxing', 'boxing', 'Shootboxing', 'Tae Kwon Do  Boxing  Wing Chun',\n",
    "Wrestling = 'Wrestling', 'Submission Wrestling', 'Freestyle Wrestling', 'Wrestling[3]', 'Submission wrestling', 'Greco-Roman Wrestling', 'Collegiate wrestling', 'Freestyle wrestling', 'Catch Wrestling', 'wrestling', 'Folkstyle Wrestling', 'Sanda and Freestyle Wrestling', 'Collegiate Wrestling', 'Pro Wrestling', 'Catch wrestling', 'Submission Wrestling.', 'Wrestling  Kickboxing', 'Submission Fighting', 'Shoot Wrestling', 'Amateur Wrestling', 'Shootfighting', 'Vovinam', 'Shooto', \n",
    "Grappling = 'Submission Fighting', 'Grappling', 'Submission grappling', 'Grappling[1]', '[1] Shuai Jiao', 'Shuai Jiao', 'Ssireum', 'Sumo', \n",
    "Kickboxing = 'Kickboxing', 'Kickboxing[3]', 'Kempo • Kickboxing • Jujutsu', 'Wrestling  Kickboxing', 'Sanda', 'Wushu Sanda', 'Sanshou and Wushu', 'Sanshou', 'Savate', \n",
    "Karate = 'Karate', 'Shotokan Karate', 'Kempo Karate', 'Kyokushin Karate', 'Kenpo Karate', 'American Kenpo Karate', 'Gōjū-ryū Karate', 'Kyokushin', 'Kung-Fu', 'Kung fu', 'Wushu', \n",
    "Judo = 'Judo', 'judo'\n",
    "Taekwondo = 'Taekwondo', 'Tae Kwon Do', 'Tae Kwon Do  Boxing  Wing Chun', 'Jeet Kune Do', \n"
   ]
  },
  {
   "cell_type": "code",
   "execution_count": 34,
   "metadata": {},
   "outputs": [],
   "source": [
    "BJJ = np.asarray(['Brazilian Jiu-Jitsu', 'Jujutsu', 'Brazilian Jiu Jitsu', 'BJJ', 'Gaidojutsu', 'Jiu Jitsu', 'Brazilian jiu-jitsu', '10th Planet Jiu-Jitsu', '[4] BJJ[4]', 'Luta Livre', 'Purple belt in Brazilian Jiu-Jitsu[2]', 'Brazilian Jiu-jitsu', 'Kempo • Kickboxing • Jujutsu', 'Brazilian Jiu-Jitsu[3]', 'BJJ[1]', 'BJJ[2]', 'Brazilian Jiu-Jitsu[1]', 'Jiu-jitsu', 'BadgeJitsu', 'Brazilian Jiu-Jitsu Muay Thai[2]', 'Gracie Jiu-Jitsu', 'GJJ', 'Jujitsu', 'Ju-Jitsu', 'BJJ[3]', 'Submission Fighting'])\n",
    "Muay_Thai = np.asarray(['Muay Thai', 'Muay Thai[1]', 'Muay Thai[2]', 'Muay Thai[6]', 'Brazilian Jiu-Jitsu Muay Thai[2]'])\n",
    "Sambo = np.asarray(['Combat Sambo', 'Sambo', 'Submission Fighting']) \n",
    "Boxing = np.asarray(['Boxing', 'boxing', 'Shootboxing', 'Tae Kwon Do Boxing Wing Chun'])\n",
    "Wrestling = np.asarray(['Wrestling', 'Submission Wrestling', 'Freestyle Wrestling', 'Wrestling[3]', 'Submission wrestling', 'Greco-Roman Wrestling', 'Collegiate wrestling', 'Freestyle wrestling', 'Catch Wrestling', 'wrestling', 'Folkstyle Wrestling', 'Sanda and Freestyle Wrestling', 'Collegiate Wrestling', 'Pro Wrestling', 'Catch wrestling', 'Submission Wrestling.', 'Wrestling Kickboxing', 'Submission Fighting', 'Shoot Wrestling', 'Amateur Wrestling', 'Shootfighting', 'Vovinam', 'Shooto'])\n",
    "Grappling = np.asarray(['Submission Fighting', 'Grappling', 'Submission grappling', 'Grappling[1]', '[1] Shuai Jiao', 'Shuai Jiao', 'Ssireum', 'Sumo'])\n",
    "Kickboxing = np.asarray(['Kickboxing', 'Kickboxing[3]', 'Kempo • Kickboxing • Jujutsu', 'Wrestling Kickboxing', 'Sanda', 'Wushu Sanda', 'Sanshou and Wushu', 'Sanshou', 'Savate'])\n",
    "Karate = np.asarray(['Karate', 'Shotokan Karate', 'Kempo Karate', 'Kyokushin Karate', 'Kenpo Karate', 'American Kenpo Karate', 'Gōjū-ryū Karate', 'Kyokushin', 'Kung-Fu', 'Kung fu', 'Wushu'])\n",
    "Judo = np.asarray(['Judo', 'judo'])\n",
    "Taekwondo = np.asarray(['Taekwondo', 'Tae Kwon Do', 'Tae Kwon Do Boxing Wing Chun', 'Jeet Kune Do'])\n",
    "Categories=np.asarray([BJJ, Muay_Thai, Sambo, Boxing, Wrestling, Grappling, Kickboxing, Karate, Judo, Taekwondo])"
   ]
  },
  {
   "cell_type": "code",
   "execution_count": 35,
   "metadata": {},
   "outputs": [],
   "source": [
    "Categories_titles=np.asarray(['BJJ', 'Muay_Thai', 'Sambo', 'Boxing', 'Wrestling', 'Grappling', 'Kickboxing', 'Karate', 'Judo', 'Taekwondo'])"
   ]
  },
  {
   "cell_type": "code",
   "execution_count": 36,
   "metadata": {},
   "outputs": [],
   "source": [
    "temp = pd.Series([0 for x in range(len(Yodha.index))])\n",
    "for i in range(len(Yodha['Style'])):\n",
    "    lisT1 = []\n",
    "    try:\n",
    "        for each in Yodha['Style'][i].split(','):\n",
    "            for j in range(len(Categories)):\n",
    "                if each.strip() in Categories[j]:\n",
    "                    if Categories_titles[j] not in lisT1:\n",
    "                        lisT1.append(Categories_titles[j])\n",
    "        temp[i]= ', '.join(lisT1)\n",
    "    except: \n",
    "        lisT1= float('NaN')\n",
    "        temp[i] = lisT1"
   ]
  },
  {
   "cell_type": "code",
   "execution_count": 37,
   "metadata": {},
   "outputs": [],
   "source": [
    "Yodha['Style'] = temp"
   ]
  },
  {
   "cell_type": "code",
   "execution_count": 38,
   "metadata": {},
   "outputs": [
    {
     "data": {
      "text/html": [
       "<div>\n",
       "<style scoped>\n",
       "    .dataframe tbody tr th:only-of-type {\n",
       "        vertical-align: middle;\n",
       "    }\n",
       "\n",
       "    .dataframe tbody tr th {\n",
       "        vertical-align: top;\n",
       "    }\n",
       "\n",
       "    .dataframe thead th {\n",
       "        text-align: right;\n",
       "    }\n",
       "</style>\n",
       "<table border=\"1\" class=\"dataframe\">\n",
       "  <thead>\n",
       "    <tr style=\"text-align: right;\">\n",
       "      <th></th>\n",
       "      <th>Name</th>\n",
       "      <th>Style</th>\n",
       "    </tr>\n",
       "  </thead>\n",
       "  <tbody>\n",
       "    <tr>\n",
       "      <th>0</th>\n",
       "      <td>Leon Edwards</td>\n",
       "      <td>NaN</td>\n",
       "    </tr>\n",
       "    <tr>\n",
       "      <th>1</th>\n",
       "      <td>Rafael dos Anjos</td>\n",
       "      <td>BJJ, Muay_Thai</td>\n",
       "    </tr>\n",
       "    <tr>\n",
       "      <th>2</th>\n",
       "      <td>Walt Harris</td>\n",
       "      <td>NaN</td>\n",
       "    </tr>\n",
       "    <tr>\n",
       "      <th>3</th>\n",
       "      <td>Aleksei Oleinik</td>\n",
       "      <td>Sambo, BJJ</td>\n",
       "    </tr>\n",
       "    <tr>\n",
       "      <th>4</th>\n",
       "      <td>Greg Hardy</td>\n",
       "      <td>Boxing</td>\n",
       "    </tr>\n",
       "    <tr>\n",
       "      <th>5</th>\n",
       "      <td>Juan Adams</td>\n",
       "      <td>Wrestling</td>\n",
       "    </tr>\n",
       "    <tr>\n",
       "      <th>6</th>\n",
       "      <td>Dan Hooker</td>\n",
       "      <td>Muay_Thai, BJJ</td>\n",
       "    </tr>\n",
       "    <tr>\n",
       "      <th>7</th>\n",
       "      <td>James Vick</td>\n",
       "      <td>Boxing, BJJ</td>\n",
       "    </tr>\n",
       "    <tr>\n",
       "      <th>8</th>\n",
       "      <td>Alexander Hernandez</td>\n",
       "      <td>NaN</td>\n",
       "    </tr>\n",
       "    <tr>\n",
       "      <th>9</th>\n",
       "      <td>Francisco Trinaldo</td>\n",
       "      <td>Kickboxing, Wrestling</td>\n",
       "    </tr>\n",
       "    <tr>\n",
       "      <th>10</th>\n",
       "      <td>Andrei Arlovski</td>\n",
       "      <td>Kickboxing, Sambo, BJJ</td>\n",
       "    </tr>\n",
       "    <tr>\n",
       "      <th>11</th>\n",
       "      <td>Ben Rothwell</td>\n",
       "      <td>Kickboxing, BJJ</td>\n",
       "    </tr>\n",
       "    <tr>\n",
       "      <th>12</th>\n",
       "      <td>Alex Caceres</td>\n",
       "      <td>Taekwondo, BJJ</td>\n",
       "    </tr>\n",
       "    <tr>\n",
       "      <th>13</th>\n",
       "      <td>Steven Peterson</td>\n",
       "      <td>NaN</td>\n",
       "    </tr>\n",
       "    <tr>\n",
       "      <th>14</th>\n",
       "      <td>Raquel Pennington</td>\n",
       "      <td>Boxing</td>\n",
       "    </tr>\n",
       "    <tr>\n",
       "      <th>15</th>\n",
       "      <td>Irene Aldana</td>\n",
       "      <td>NaN</td>\n",
       "    </tr>\n",
       "    <tr>\n",
       "      <th>16</th>\n",
       "      <td>Jennifer Maia</td>\n",
       "      <td>BJJ, Muay_Thai, Boxing</td>\n",
       "    </tr>\n",
       "    <tr>\n",
       "      <th>17</th>\n",
       "      <td>Roxanne Modafferi</td>\n",
       "      <td>NaN</td>\n",
       "    </tr>\n",
       "    <tr>\n",
       "      <th>18</th>\n",
       "      <td>Ray Borg</td>\n",
       "      <td>BJJ</td>\n",
       "    </tr>\n",
       "    <tr>\n",
       "      <th>19</th>\n",
       "      <td>Germaine de Randamie</td>\n",
       "      <td>Muay_Thai, Boxing</td>\n",
       "    </tr>\n",
       "  </tbody>\n",
       "</table>\n",
       "</div>"
      ],
      "text/plain": [
       "                    Name                   Style\n",
       "0           Leon Edwards                     NaN\n",
       "1       Rafael dos Anjos          BJJ, Muay_Thai\n",
       "2            Walt Harris                     NaN\n",
       "3        Aleksei Oleinik              Sambo, BJJ\n",
       "4             Greg Hardy                  Boxing\n",
       "5             Juan Adams               Wrestling\n",
       "6             Dan Hooker          Muay_Thai, BJJ\n",
       "7             James Vick             Boxing, BJJ\n",
       "8    Alexander Hernandez                     NaN\n",
       "9     Francisco Trinaldo   Kickboxing, Wrestling\n",
       "10       Andrei Arlovski  Kickboxing, Sambo, BJJ\n",
       "11          Ben Rothwell         Kickboxing, BJJ\n",
       "12          Alex Caceres          Taekwondo, BJJ\n",
       "13       Steven Peterson                     NaN\n",
       "14     Raquel Pennington                  Boxing\n",
       "15          Irene Aldana                     NaN\n",
       "16         Jennifer Maia  BJJ, Muay_Thai, Boxing\n",
       "17     Roxanne Modafferi                     NaN\n",
       "18              Ray Borg                     BJJ\n",
       "19  Germaine de Randamie       Muay_Thai, Boxing"
      ]
     },
     "execution_count": 38,
     "metadata": {},
     "output_type": "execute_result"
    }
   ],
   "source": [
    "Yodha.head(20)"
   ]
  },
  {
   "cell_type": "code",
   "execution_count": 39,
   "metadata": {},
   "outputs": [
    {
     "data": {
      "text/plain": [
       "(1461, 2)"
      ]
     },
     "execution_count": 39,
     "metadata": {},
     "output_type": "execute_result"
    }
   ],
   "source": [
    "Yodha.shape"
   ]
  },
  {
   "cell_type": "markdown",
   "metadata": {},
   "source": [
    "# Let's work with fights list now."
   ]
  },
  {
   "cell_type": "code",
   "execution_count": 40,
   "metadata": {},
   "outputs": [],
   "source": [
    "fights = pd.read_csv('fightsList.csv')"
   ]
  },
  {
   "cell_type": "code",
   "execution_count": 41,
   "metadata": {},
   "outputs": [
    {
     "data": {
      "text/html": [
       "<div>\n",
       "<style scoped>\n",
       "    .dataframe tbody tr th:only-of-type {\n",
       "        vertical-align: middle;\n",
       "    }\n",
       "\n",
       "    .dataframe tbody tr th {\n",
       "        vertical-align: top;\n",
       "    }\n",
       "\n",
       "    .dataframe thead th {\n",
       "        text-align: right;\n",
       "    }\n",
       "</style>\n",
       "<table border=\"1\" class=\"dataframe\">\n",
       "  <thead>\n",
       "    <tr style=\"text-align: right;\">\n",
       "      <th></th>\n",
       "      <th>Fighter_name</th>\n",
       "      <th>Result</th>\n",
       "      <th>Record</th>\n",
       "      <th>Opponent</th>\n",
       "      <th>Method</th>\n",
       "      <th>Event</th>\n",
       "      <th>Date</th>\n",
       "      <th>Round</th>\n",
       "      <th>Time</th>\n",
       "    </tr>\n",
       "  </thead>\n",
       "  <tbody>\n",
       "    <tr>\n",
       "      <th>0</th>\n",
       "      <td>Leon Edwards</td>\n",
       "      <td>Win</td>\n",
       "      <td>18–3</td>\n",
       "      <td>Rafael dos Anjos</td>\n",
       "      <td>Decision (unanimous)</td>\n",
       "      <td>UFC on ESPN: dos Anjos vs. Edwards</td>\n",
       "      <td>20 July 2019</td>\n",
       "      <td>5</td>\n",
       "      <td>5:00</td>\n",
       "    </tr>\n",
       "    <tr>\n",
       "      <th>1</th>\n",
       "      <td>Leon Edwards</td>\n",
       "      <td>Win</td>\n",
       "      <td>17–3</td>\n",
       "      <td>Gunnar Nelson</td>\n",
       "      <td>Decision (split)</td>\n",
       "      <td>UFC Fight Night: Till vs. Masvidal</td>\n",
       "      <td>16 March 2019</td>\n",
       "      <td>3</td>\n",
       "      <td>5:00</td>\n",
       "    </tr>\n",
       "    <tr>\n",
       "      <th>2</th>\n",
       "      <td>Leon Edwards</td>\n",
       "      <td>Win</td>\n",
       "      <td>16–3</td>\n",
       "      <td>Donald Cerrone</td>\n",
       "      <td>Decision (unanimous)</td>\n",
       "      <td>UFC Fight Night: Cowboy vs. Edwards</td>\n",
       "      <td>23 June 2018</td>\n",
       "      <td>5</td>\n",
       "      <td>5:00</td>\n",
       "    </tr>\n",
       "    <tr>\n",
       "      <th>3</th>\n",
       "      <td>Leon Edwards</td>\n",
       "      <td>Win</td>\n",
       "      <td>15–3</td>\n",
       "      <td>Peter Sobotta</td>\n",
       "      <td>TKO (punches)</td>\n",
       "      <td>UFC Fight Night: Werdum vs. Volkov</td>\n",
       "      <td>17 March 2018</td>\n",
       "      <td>3</td>\n",
       "      <td>4:59</td>\n",
       "    </tr>\n",
       "    <tr>\n",
       "      <th>4</th>\n",
       "      <td>Leon Edwards</td>\n",
       "      <td>Win</td>\n",
       "      <td>14–3</td>\n",
       "      <td>Bryan Barberena</td>\n",
       "      <td>Decision (unanimous)</td>\n",
       "      <td>UFC Fight Night: Volkov vs. Struve</td>\n",
       "      <td>2 September 2017</td>\n",
       "      <td>3</td>\n",
       "      <td>5:00</td>\n",
       "    </tr>\n",
       "  </tbody>\n",
       "</table>\n",
       "</div>"
      ],
      "text/plain": [
       "   Fighter_name Result Record          Opponent                Method  \\\n",
       "0  Leon Edwards    Win   18–3  Rafael dos Anjos  Decision (unanimous)   \n",
       "1  Leon Edwards    Win   17–3     Gunnar Nelson      Decision (split)   \n",
       "2  Leon Edwards    Win   16–3    Donald Cerrone  Decision (unanimous)   \n",
       "3  Leon Edwards    Win   15–3     Peter Sobotta         TKO (punches)   \n",
       "4  Leon Edwards    Win   14–3   Bryan Barberena  Decision (unanimous)   \n",
       "\n",
       "                                 Event              Date Round  Time  \n",
       "0   UFC on ESPN: dos Anjos vs. Edwards      20 July 2019     5  5:00  \n",
       "1   UFC Fight Night: Till vs. Masvidal     16 March 2019     3  5:00  \n",
       "2  UFC Fight Night: Cowboy vs. Edwards      23 June 2018     5  5:00  \n",
       "3   UFC Fight Night: Werdum vs. Volkov     17 March 2018     3  4:59  \n",
       "4   UFC Fight Night: Volkov vs. Struve  2 September 2017     3  5:00  "
      ]
     },
     "execution_count": 41,
     "metadata": {},
     "output_type": "execute_result"
    }
   ],
   "source": [
    "fights.head()"
   ]
  },
  {
   "cell_type": "code",
   "execution_count": 42,
   "metadata": {},
   "outputs": [
    {
     "data": {
      "text/plain": [
       "Index(['Fighter_name', 'Result', 'Record', 'Opponent', 'Method', 'Event',\n",
       "       'Date', 'Round', 'Time'],\n",
       "      dtype='object')"
      ]
     },
     "execution_count": 42,
     "metadata": {},
     "output_type": "execute_result"
    }
   ],
   "source": [
    "fights.columns"
   ]
  },
  {
   "cell_type": "code",
   "execution_count": 43,
   "metadata": {},
   "outputs": [
    {
     "data": {
      "text/plain": [
       "RangeIndex(start=0, stop=35603, step=1)"
      ]
     },
     "execution_count": 43,
     "metadata": {},
     "output_type": "execute_result"
    }
   ],
   "source": [
    "fights.index"
   ]
  },
  {
   "cell_type": "code",
   "execution_count": 44,
   "metadata": {},
   "outputs": [
    {
     "data": {
      "text/html": [
       "<div>\n",
       "<style scoped>\n",
       "    .dataframe tbody tr th:only-of-type {\n",
       "        vertical-align: middle;\n",
       "    }\n",
       "\n",
       "    .dataframe tbody tr th {\n",
       "        vertical-align: top;\n",
       "    }\n",
       "\n",
       "    .dataframe thead th {\n",
       "        text-align: right;\n",
       "    }\n",
       "</style>\n",
       "<table border=\"1\" class=\"dataframe\">\n",
       "  <thead>\n",
       "    <tr style=\"text-align: right;\">\n",
       "      <th></th>\n",
       "      <th>count</th>\n",
       "      <th>unique</th>\n",
       "      <th>top</th>\n",
       "      <th>freq</th>\n",
       "    </tr>\n",
       "  </thead>\n",
       "  <tbody>\n",
       "    <tr>\n",
       "      <th>Fighter_name</th>\n",
       "      <td>35603</td>\n",
       "      <td>1485</td>\n",
       "      <td>Travis Fulton</td>\n",
       "      <td>320</td>\n",
       "    </tr>\n",
       "    <tr>\n",
       "      <th>Result</th>\n",
       "      <td>35600</td>\n",
       "      <td>13</td>\n",
       "      <td>Win</td>\n",
       "      <td>24341</td>\n",
       "    </tr>\n",
       "    <tr>\n",
       "      <th>Record</th>\n",
       "      <td>35600</td>\n",
       "      <td>4622</td>\n",
       "      <td>1–0</td>\n",
       "      <td>1182</td>\n",
       "    </tr>\n",
       "    <tr>\n",
       "      <th>Opponent</th>\n",
       "      <td>35603</td>\n",
       "      <td>13295</td>\n",
       "      <td>Travis Fulton</td>\n",
       "      <td>50</td>\n",
       "    </tr>\n",
       "    <tr>\n",
       "      <th>Method</th>\n",
       "      <td>35548</td>\n",
       "      <td>820</td>\n",
       "      <td>Decision (unanimous)</td>\n",
       "      <td>8218</td>\n",
       "    </tr>\n",
       "    <tr>\n",
       "      <th>Event</th>\n",
       "      <td>35602</td>\n",
       "      <td>15396</td>\n",
       "      <td>ShoXC: Elite Challenger Series</td>\n",
       "      <td>34</td>\n",
       "    </tr>\n",
       "    <tr>\n",
       "      <th>Date</th>\n",
       "      <td>35603</td>\n",
       "      <td>5473</td>\n",
       "      <td>October 4, 2014</td>\n",
       "      <td>58</td>\n",
       "    </tr>\n",
       "    <tr>\n",
       "      <th>Round</th>\n",
       "      <td>35352</td>\n",
       "      <td>8</td>\n",
       "      <td>1</td>\n",
       "      <td>16211</td>\n",
       "    </tr>\n",
       "    <tr>\n",
       "      <th>Time</th>\n",
       "      <td>34028</td>\n",
       "      <td>666</td>\n",
       "      <td>5:00</td>\n",
       "      <td>10940</td>\n",
       "    </tr>\n",
       "  </tbody>\n",
       "</table>\n",
       "</div>"
      ],
      "text/plain": [
       "              count unique                             top   freq\n",
       "Fighter_name  35603   1485                   Travis Fulton    320\n",
       "Result        35600     13                             Win  24341\n",
       "Record        35600   4622                             1–0   1182\n",
       "Opponent      35603  13295                   Travis Fulton     50\n",
       "Method        35548    820            Decision (unanimous)   8218\n",
       "Event         35602  15396  ShoXC: Elite Challenger Series     34\n",
       "Date          35603   5473                 October 4, 2014     58\n",
       "Round         35352      8                               1  16211\n",
       "Time          34028    666                            5:00  10940"
      ]
     },
     "execution_count": 44,
     "metadata": {},
     "output_type": "execute_result"
    }
   ],
   "source": [
    "fights.describe().transpose()"
   ]
  },
  {
   "cell_type": "code",
   "execution_count": 45,
   "metadata": {},
   "outputs": [
    {
     "data": {
      "text/plain": [
       "(35603, 9)"
      ]
     },
     "execution_count": 45,
     "metadata": {},
     "output_type": "execute_result"
    }
   ],
   "source": [
    "fights.shape"
   ]
  },
  {
   "cell_type": "code",
   "execution_count": 46,
   "metadata": {},
   "outputs": [
    {
     "data": {
      "text/plain": [
       "(1485,)"
      ]
     },
     "execution_count": 46,
     "metadata": {},
     "output_type": "execute_result"
    }
   ],
   "source": [
    "pd.unique(fights['Fighter_name']).shape"
   ]
  },
  {
   "cell_type": "markdown",
   "metadata": {},
   "source": [
    "# Data Cleaning: Handling Missing Data"
   ]
  },
  {
   "cell_type": "code",
   "execution_count": 47,
   "metadata": {},
   "outputs": [
    {
     "data": {
      "text/plain": [
       "Fighter_name    False\n",
       "Result           True\n",
       "Record           True\n",
       "Opponent        False\n",
       "Method           True\n",
       "Event            True\n",
       "Date            False\n",
       "Round            True\n",
       "Time             True\n",
       "dtype: bool"
      ]
     },
     "execution_count": 47,
     "metadata": {},
     "output_type": "execute_result"
    }
   ],
   "source": [
    "fights.isnull().any()"
   ]
  },
  {
   "cell_type": "code",
   "execution_count": 48,
   "metadata": {},
   "outputs": [
    {
     "data": {
      "text/plain": [
       "Fighter_name       0\n",
       "Result             3\n",
       "Record             3\n",
       "Opponent           0\n",
       "Method            55\n",
       "Event              1\n",
       "Date               0\n",
       "Round            251\n",
       "Time            1575\n",
       "dtype: int64"
      ]
     },
     "execution_count": 48,
     "metadata": {},
     "output_type": "execute_result"
    }
   ],
   "source": [
    "fights.isnull().sum(axis = 0)"
   ]
  },
  {
   "cell_type": "markdown",
   "metadata": {},
   "source": [
    "let's curate the data.<br> If there is no result, not worthy. Also remove anything beyond win or loss<br>\n",
    "If there is no Method, fine!<br>\n",
    "If there is no event, fine!<br>\n",
    "If there is round and time, Let's see how they look and figure out if these can be predicted. <br>"
   ]
  },
  {
   "cell_type": "code",
   "execution_count": 49,
   "metadata": {},
   "outputs": [],
   "source": [
    "fights = fights.dropna(subset=[\"Result\"]).reset_index(drop = True)"
   ]
  },
  {
   "cell_type": "code",
   "execution_count": 50,
   "metadata": {},
   "outputs": [
    {
     "data": {
      "text/plain": [
       "array(['Win', 'Loss', 'NC', 'Draw', 'Lose', 'loss', 'win', 'Winn', 'Won',\n",
       "       'Los', 'xWin', 'Winx', 'Lossx'], dtype=object)"
      ]
     },
     "execution_count": 50,
     "metadata": {},
     "output_type": "execute_result"
    }
   ],
   "source": [
    "fights['Result'].unique()"
   ]
  },
  {
   "cell_type": "code",
   "execution_count": 51,
   "metadata": {},
   "outputs": [],
   "source": [
    "fights=fights[fights.Result != 'Draw']\n",
    "fights= fights[fights.Result != 'NC']\n",
    "fights = fights.reset_index(drop=True)"
   ]
  },
  {
   "cell_type": "code",
   "execution_count": 52,
   "metadata": {},
   "outputs": [
    {
     "data": {
      "text/plain": [
       "Fighter_name       0\n",
       "Result             0\n",
       "Record             0\n",
       "Opponent           0\n",
       "Method            52\n",
       "Event              1\n",
       "Date               0\n",
       "Round            228\n",
       "Time            1521\n",
       "dtype: int64"
      ]
     },
     "execution_count": 52,
     "metadata": {},
     "output_type": "execute_result"
    }
   ],
   "source": [
    "fights.isnull().sum(axis = 0)"
   ]
  },
  {
   "cell_type": "code",
   "execution_count": 53,
   "metadata": {},
   "outputs": [
    {
     "data": {
      "text/plain": [
       "array(['Win', 'Loss', 'Lose', 'loss', 'win', 'Winn', 'Won', 'Los', 'xWin',\n",
       "       'Winx', 'Lossx'], dtype=object)"
      ]
     },
     "execution_count": 53,
     "metadata": {},
     "output_type": "execute_result"
    }
   ],
   "source": [
    "fights['Result'].unique()"
   ]
  },
  {
   "cell_type": "code",
   "execution_count": 54,
   "metadata": {},
   "outputs": [],
   "source": [
    "Win = np.asarray(['Win', 'win', 'Winn', 'Won', 'xWin', 'Winx'])\n",
    "Loss = np.asarray(['Loss', 'Lose', 'loss', 'Los', 'Lossx'])\n",
    "CateGory = np.asarray([Win, Loss])\n",
    "CateGory_T = np.asarray(['Win', 'Loss'])"
   ]
  },
  {
   "cell_type": "code",
   "execution_count": 55,
   "metadata": {},
   "outputs": [],
   "source": [
    "temp1 = pd.Series([0 for x in range(len(fights.index))])\n",
    "for i in range(len(fights['Result'])):\n",
    "    list = ''\n",
    "    for j in [0,1]:\n",
    "        if fights.loc[i,'Result'].strip() in CateGory[j]:\n",
    "            list+= CateGory_T[j]\n",
    "            break\n",
    "    temp1[i] = list"
   ]
  },
  {
   "cell_type": "code",
   "execution_count": 56,
   "metadata": {},
   "outputs": [],
   "source": [
    "fights['Result'] = temp1"
   ]
  },
  {
   "cell_type": "code",
   "execution_count": 57,
   "metadata": {},
   "outputs": [
    {
     "data": {
      "text/plain": [
       "(Fighter_name       0\n",
       " Result             0\n",
       " Record             0\n",
       " Opponent           0\n",
       " Method            52\n",
       " Event              1\n",
       " Date               0\n",
       " Round            228\n",
       " Time            1521\n",
       " dtype: int64, (34836, 9))"
      ]
     },
     "execution_count": 57,
     "metadata": {},
     "output_type": "execute_result"
    }
   ],
   "source": [
    "fights.isnull().sum(axis = 0), fights.shape"
   ]
  },
  {
   "cell_type": "code",
   "execution_count": 58,
   "metadata": {},
   "outputs": [
    {
     "data": {
      "text/html": [
       "<div>\n",
       "<style scoped>\n",
       "    .dataframe tbody tr th:only-of-type {\n",
       "        vertical-align: middle;\n",
       "    }\n",
       "\n",
       "    .dataframe tbody tr th {\n",
       "        vertical-align: top;\n",
       "    }\n",
       "\n",
       "    .dataframe thead th {\n",
       "        text-align: right;\n",
       "    }\n",
       "</style>\n",
       "<table border=\"1\" class=\"dataframe\">\n",
       "  <thead>\n",
       "    <tr style=\"text-align: right;\">\n",
       "      <th></th>\n",
       "      <th>Fighter_name</th>\n",
       "      <th>Result</th>\n",
       "      <th>Record</th>\n",
       "      <th>Opponent</th>\n",
       "      <th>Method</th>\n",
       "      <th>Event</th>\n",
       "      <th>Date</th>\n",
       "      <th>Round</th>\n",
       "      <th>Time</th>\n",
       "    </tr>\n",
       "  </thead>\n",
       "  <tbody>\n",
       "    <tr>\n",
       "      <th>57</th>\n",
       "      <td>Rafael dos Anjos</td>\n",
       "      <td>Win</td>\n",
       "      <td>3–2</td>\n",
       "      <td>Diogo Oliveira</td>\n",
       "      <td>Submission (armbar)</td>\n",
       "      <td>TFMMA - Top Fighter MMA 2</td>\n",
       "      <td>October 25, 2006</td>\n",
       "      <td>2</td>\n",
       "      <td>NaN</td>\n",
       "    </tr>\n",
       "    <tr>\n",
       "      <th>59</th>\n",
       "      <td>Rafael dos Anjos</td>\n",
       "      <td>Win</td>\n",
       "      <td>2–1</td>\n",
       "      <td>Felipe Arinelli</td>\n",
       "      <td>TKO (doctor stoppage)</td>\n",
       "      <td>Juiz de Fora - Fight 2</td>\n",
       "      <td>April 26, 2005</td>\n",
       "      <td>2</td>\n",
       "      <td>NaN</td>\n",
       "    </tr>\n",
       "    <tr>\n",
       "      <th>118</th>\n",
       "      <td>Aleksei Oleinik</td>\n",
       "      <td>Win</td>\n",
       "      <td>18–3</td>\n",
       "      <td>Shamil Nurmagomedov</td>\n",
       "      <td>Submission (Ezekiel choke)</td>\n",
       "      <td>Legion Fight 1</td>\n",
       "      <td>October 20, 2007</td>\n",
       "      <td>1</td>\n",
       "      <td>NaN</td>\n",
       "    </tr>\n",
       "    <tr>\n",
       "      <th>225</th>\n",
       "      <td>Francisco Trinaldo</td>\n",
       "      <td>Win</td>\n",
       "      <td>3–0</td>\n",
       "      <td>Marcone Bezerra</td>\n",
       "      <td>Submission (arm-triangle choke)</td>\n",
       "      <td>Hero's The Jungle 2</td>\n",
       "      <td>April 7, 2008</td>\n",
       "      <td>1</td>\n",
       "      <td>NaN</td>\n",
       "    </tr>\n",
       "    <tr>\n",
       "      <th>226</th>\n",
       "      <td>Francisco Trinaldo</td>\n",
       "      <td>Win</td>\n",
       "      <td>2–0</td>\n",
       "      <td>Vinicius Dohrer</td>\n",
       "      <td>TKO (corner stoppage)</td>\n",
       "      <td>Fight Club Tournament 3</td>\n",
       "      <td>August 18, 2006</td>\n",
       "      <td>2</td>\n",
       "      <td>NaN</td>\n",
       "    </tr>\n",
       "  </tbody>\n",
       "</table>\n",
       "</div>"
      ],
      "text/plain": [
       "           Fighter_name Result Record             Opponent  \\\n",
       "57     Rafael dos Anjos    Win    3–2       Diogo Oliveira   \n",
       "59     Rafael dos Anjos    Win    2–1      Felipe Arinelli   \n",
       "118     Aleksei Oleinik    Win   18–3  Shamil Nurmagomedov   \n",
       "225  Francisco Trinaldo    Win    3–0      Marcone Bezerra   \n",
       "226  Francisco Trinaldo    Win    2–0      Vinicius Dohrer   \n",
       "\n",
       "                              Method                      Event  \\\n",
       "57               Submission (armbar)  TFMMA - Top Fighter MMA 2   \n",
       "59             TKO (doctor stoppage)     Juiz de Fora - Fight 2   \n",
       "118       Submission (Ezekiel choke)             Legion Fight 1   \n",
       "225  Submission (arm-triangle choke)        Hero's The Jungle 2   \n",
       "226            TKO (corner stoppage)    Fight Club Tournament 3   \n",
       "\n",
       "                 Date Round Time  \n",
       "57   October 25, 2006     2  NaN  \n",
       "59     April 26, 2005     2  NaN  \n",
       "118  October 20, 2007     1  NaN  \n",
       "225     April 7, 2008     1  NaN  \n",
       "226   August 18, 2006     2  NaN  "
      ]
     },
     "execution_count": 58,
     "metadata": {},
     "output_type": "execute_result"
    }
   ],
   "source": [
    "fights.loc[fights.Time.isnull(),:].head()\n",
    "#NO they cannot be predicted"
   ]
  },
  {
   "cell_type": "code",
   "execution_count": 59,
   "metadata": {},
   "outputs": [
    {
     "data": {
      "text/plain": [
       "Index(['Fighter_name', 'Result', 'Record', 'Opponent', 'Method', 'Event',\n",
       "       'Date', 'Round', 'Time'],\n",
       "      dtype='object')"
      ]
     },
     "execution_count": 59,
     "metadata": {},
     "output_type": "execute_result"
    }
   ],
   "source": [
    "fights.columns"
   ]
  },
  {
   "cell_type": "code",
   "execution_count": 60,
   "metadata": {},
   "outputs": [],
   "source": [
    "needed_attribute=['Fighter_name', 'Result', 'Method']"
   ]
  },
  {
   "cell_type": "code",
   "execution_count": 61,
   "metadata": {},
   "outputs": [
    {
     "data": {
      "text/plain": [
       "(Fighter_name     0\n",
       " Result           0\n",
       " Method          52\n",
       " dtype: int64, (34836, 3))"
      ]
     },
     "execution_count": 61,
     "metadata": {},
     "output_type": "execute_result"
    }
   ],
   "source": [
    "Jung = fights[needed_attribute].copy(deep = True)\n",
    "Jung.isnull().sum(axis = 0), Jung.shape"
   ]
  },
  {
   "cell_type": "code",
   "execution_count": 62,
   "metadata": {},
   "outputs": [
    {
     "data": {
      "text/plain": [
       "(Fighter_name    0\n",
       " Result          0\n",
       " Method          0\n",
       " dtype: int64, (34784, 3))"
      ]
     },
     "execution_count": 62,
     "metadata": {},
     "output_type": "execute_result"
    }
   ],
   "source": [
    "Jung = Jung.dropna(subset=[\"Method\"]).reset_index(drop = True)\n",
    "Jung.isnull().sum(axis = 0), Jung.shape"
   ]
  },
  {
   "cell_type": "markdown",
   "metadata": {},
   "source": [
    "Would like to extract what's inside brackets in Method column.<br>\n",
    "Would like to group and count Wins and accumulate methods per fighter. <br>\n",
    "Would like to group and count Losses and accumulate methods per fighter."
   ]
  },
  {
   "cell_type": "code",
   "execution_count": 63,
   "metadata": {},
   "outputs": [],
   "source": [
    "def get_method(el):\n",
    "    try:\n",
    "        r = re.compile(r'.*\\((.*)\\)$')\n",
    "        m = r.match(el)\n",
    "        if m == None:\n",
    "            #print(el)\n",
    "            return el\n",
    "        else:\n",
    "            return m.group(1)\n",
    "    except:\n",
    "        return el"
   ]
  },
  {
   "cell_type": "code",
   "execution_count": 64,
   "metadata": {},
   "outputs": [
    {
     "data": {
      "text/plain": [
       "Fighter_name         Anthony Smith\n",
       "Result                         Win\n",
       "Method          Submission (choke)\n",
       "Name: 2313, dtype: object"
      ]
     },
     "execution_count": 64,
     "metadata": {},
     "output_type": "execute_result"
    }
   ],
   "source": [
    "get_method(Jung.loc[2313,:])"
   ]
  },
  {
   "cell_type": "code",
   "execution_count": 65,
   "metadata": {},
   "outputs": [],
   "source": [
    "#Jung['Method1'] = pd.Series([0 for x in range(len(Jung.index))])\n",
    "for i in range(len(Jung.index)):\n",
    "    #print(i)\n",
    "    Jung.loc[i,'Method']= get_method(Jung.loc[i,'Method'])"
   ]
  },
  {
   "cell_type": "code",
   "execution_count": 66,
   "metadata": {},
   "outputs": [
    {
     "data": {
      "text/html": [
       "<div>\n",
       "<style scoped>\n",
       "    .dataframe tbody tr th:only-of-type {\n",
       "        vertical-align: middle;\n",
       "    }\n",
       "\n",
       "    .dataframe tbody tr th {\n",
       "        vertical-align: top;\n",
       "    }\n",
       "\n",
       "    .dataframe thead th {\n",
       "        text-align: right;\n",
       "    }\n",
       "</style>\n",
       "<table border=\"1\" class=\"dataframe\">\n",
       "  <thead>\n",
       "    <tr style=\"text-align: right;\">\n",
       "      <th></th>\n",
       "      <th>Fighter_name</th>\n",
       "      <th>Result</th>\n",
       "      <th>Method</th>\n",
       "    </tr>\n",
       "  </thead>\n",
       "  <tbody>\n",
       "    <tr>\n",
       "      <th>0</th>\n",
       "      <td>Leon Edwards</td>\n",
       "      <td>Win</td>\n",
       "      <td>unanimous</td>\n",
       "    </tr>\n",
       "    <tr>\n",
       "      <th>1</th>\n",
       "      <td>Leon Edwards</td>\n",
       "      <td>Win</td>\n",
       "      <td>split</td>\n",
       "    </tr>\n",
       "    <tr>\n",
       "      <th>2</th>\n",
       "      <td>Leon Edwards</td>\n",
       "      <td>Win</td>\n",
       "      <td>unanimous</td>\n",
       "    </tr>\n",
       "    <tr>\n",
       "      <th>3</th>\n",
       "      <td>Leon Edwards</td>\n",
       "      <td>Win</td>\n",
       "      <td>punches</td>\n",
       "    </tr>\n",
       "    <tr>\n",
       "      <th>4</th>\n",
       "      <td>Leon Edwards</td>\n",
       "      <td>Win</td>\n",
       "      <td>unanimous</td>\n",
       "    </tr>\n",
       "    <tr>\n",
       "      <th>5</th>\n",
       "      <td>Leon Edwards</td>\n",
       "      <td>Win</td>\n",
       "      <td>unanimous</td>\n",
       "    </tr>\n",
       "    <tr>\n",
       "      <th>6</th>\n",
       "      <td>Leon Edwards</td>\n",
       "      <td>Win</td>\n",
       "      <td>rear-naked choke</td>\n",
       "    </tr>\n",
       "    <tr>\n",
       "      <th>7</th>\n",
       "      <td>Leon Edwards</td>\n",
       "      <td>Win</td>\n",
       "      <td>unanimous</td>\n",
       "    </tr>\n",
       "    <tr>\n",
       "      <th>8</th>\n",
       "      <td>Leon Edwards</td>\n",
       "      <td>Loss</td>\n",
       "      <td>unanimous</td>\n",
       "    </tr>\n",
       "    <tr>\n",
       "      <th>9</th>\n",
       "      <td>Leon Edwards</td>\n",
       "      <td>Win</td>\n",
       "      <td>unanimous</td>\n",
       "    </tr>\n",
       "  </tbody>\n",
       "</table>\n",
       "</div>"
      ],
      "text/plain": [
       "   Fighter_name Result            Method\n",
       "0  Leon Edwards    Win         unanimous\n",
       "1  Leon Edwards    Win             split\n",
       "2  Leon Edwards    Win         unanimous\n",
       "3  Leon Edwards    Win           punches\n",
       "4  Leon Edwards    Win         unanimous\n",
       "5  Leon Edwards    Win         unanimous\n",
       "6  Leon Edwards    Win  rear-naked choke\n",
       "7  Leon Edwards    Win         unanimous\n",
       "8  Leon Edwards   Loss         unanimous\n",
       "9  Leon Edwards    Win         unanimous"
      ]
     },
     "execution_count": 66,
     "metadata": {},
     "output_type": "execute_result"
    }
   ],
   "source": [
    "Jung.head(10)"
   ]
  },
  {
   "cell_type": "code",
   "execution_count": 67,
   "metadata": {},
   "outputs": [
    {
     "data": {
      "text/html": [
       "<div>\n",
       "<style scoped>\n",
       "    .dataframe tbody tr th:only-of-type {\n",
       "        vertical-align: middle;\n",
       "    }\n",
       "\n",
       "    .dataframe tbody tr th {\n",
       "        vertical-align: top;\n",
       "    }\n",
       "\n",
       "    .dataframe thead th {\n",
       "        text-align: right;\n",
       "    }\n",
       "</style>\n",
       "<table border=\"1\" class=\"dataframe\">\n",
       "  <thead>\n",
       "    <tr style=\"text-align: right;\">\n",
       "      <th></th>\n",
       "      <th>Fighter_name</th>\n",
       "      <th>Result</th>\n",
       "      <th>Method</th>\n",
       "      <th>ID</th>\n",
       "    </tr>\n",
       "  </thead>\n",
       "  <tbody>\n",
       "    <tr>\n",
       "      <th>0</th>\n",
       "      <td>Leon Edwards</td>\n",
       "      <td>Win</td>\n",
       "      <td>unanimous</td>\n",
       "      <td>852</td>\n",
       "    </tr>\n",
       "    <tr>\n",
       "      <th>1</th>\n",
       "      <td>Leon Edwards</td>\n",
       "      <td>Win</td>\n",
       "      <td>split</td>\n",
       "      <td>852</td>\n",
       "    </tr>\n",
       "    <tr>\n",
       "      <th>2</th>\n",
       "      <td>Leon Edwards</td>\n",
       "      <td>Win</td>\n",
       "      <td>unanimous</td>\n",
       "      <td>852</td>\n",
       "    </tr>\n",
       "    <tr>\n",
       "      <th>3</th>\n",
       "      <td>Leon Edwards</td>\n",
       "      <td>Win</td>\n",
       "      <td>punches</td>\n",
       "      <td>852</td>\n",
       "    </tr>\n",
       "    <tr>\n",
       "      <th>4</th>\n",
       "      <td>Leon Edwards</td>\n",
       "      <td>Win</td>\n",
       "      <td>unanimous</td>\n",
       "      <td>852</td>\n",
       "    </tr>\n",
       "  </tbody>\n",
       "</table>\n",
       "</div>"
      ],
      "text/plain": [
       "   Fighter_name Result     Method   ID\n",
       "0  Leon Edwards    Win  unanimous  852\n",
       "1  Leon Edwards    Win      split  852\n",
       "2  Leon Edwards    Win  unanimous  852\n",
       "3  Leon Edwards    Win    punches  852\n",
       "4  Leon Edwards    Win  unanimous  852"
      ]
     },
     "execution_count": 67,
     "metadata": {},
     "output_type": "execute_result"
    }
   ],
   "source": [
    "Jung['ID'] = Jung.groupby('Fighter_name').ngroup()\n",
    "Jung.head()"
   ]
  },
  {
   "cell_type": "code",
   "execution_count": 68,
   "metadata": {},
   "outputs": [
    {
     "data": {
      "text/html": [
       "<div>\n",
       "<style scoped>\n",
       "    .dataframe tbody tr th:only-of-type {\n",
       "        vertical-align: middle;\n",
       "    }\n",
       "\n",
       "    .dataframe tbody tr th {\n",
       "        vertical-align: top;\n",
       "    }\n",
       "\n",
       "    .dataframe thead th {\n",
       "        text-align: right;\n",
       "    }\n",
       "</style>\n",
       "<table border=\"1\" class=\"dataframe\">\n",
       "  <thead>\n",
       "    <tr style=\"text-align: right;\">\n",
       "      <th></th>\n",
       "      <th>ID</th>\n",
       "      <th>Fighter_name</th>\n",
       "    </tr>\n",
       "  </thead>\n",
       "  <tbody>\n",
       "    <tr>\n",
       "      <th>0</th>\n",
       "      <td>852</td>\n",
       "      <td>Leon Edwards</td>\n",
       "    </tr>\n",
       "    <tr>\n",
       "      <th>21</th>\n",
       "      <td>1138</td>\n",
       "      <td>Rafael dos Anjos</td>\n",
       "    </tr>\n",
       "    <tr>\n",
       "      <th>62</th>\n",
       "      <td>1437</td>\n",
       "      <td>Walt Harris</td>\n",
       "    </tr>\n",
       "    <tr>\n",
       "      <th>82</th>\n",
       "      <td>28</td>\n",
       "      <td>Aleksei Oleinik</td>\n",
       "    </tr>\n",
       "    <tr>\n",
       "      <th>129</th>\n",
       "      <td>519</td>\n",
       "      <td>Greg Hardy</td>\n",
       "    </tr>\n",
       "  </tbody>\n",
       "</table>\n",
       "</div>"
      ],
      "text/plain": [
       "       ID      Fighter_name\n",
       "0     852      Leon Edwards\n",
       "21   1138  Rafael dos Anjos\n",
       "62   1437       Walt Harris\n",
       "82     28   Aleksei Oleinik\n",
       "129   519        Greg Hardy"
      ]
     },
     "execution_count": 68,
     "metadata": {},
     "output_type": "execute_result"
    }
   ],
   "source": [
    "#ID to name\n",
    "ID_2_name = Jung[[\"ID\", \"Fighter_name\"]].drop_duplicates()\n",
    "ID_2_name.head()"
   ]
  },
  {
   "cell_type": "code",
   "execution_count": 69,
   "metadata": {},
   "outputs": [
    {
     "data": {
      "text/html": [
       "<div>\n",
       "<style scoped>\n",
       "    .dataframe tbody tr th:only-of-type {\n",
       "        vertical-align: middle;\n",
       "    }\n",
       "\n",
       "    .dataframe tbody tr th {\n",
       "        vertical-align: top;\n",
       "    }\n",
       "\n",
       "    .dataframe thead th {\n",
       "        text-align: right;\n",
       "    }\n",
       "</style>\n",
       "<table border=\"1\" class=\"dataframe\">\n",
       "  <thead>\n",
       "    <tr style=\"text-align: right;\">\n",
       "      <th></th>\n",
       "      <th>Fighter_name</th>\n",
       "      <th>Result</th>\n",
       "      <th>Method</th>\n",
       "      <th>ID</th>\n",
       "    </tr>\n",
       "  </thead>\n",
       "  <tbody>\n",
       "    <tr>\n",
       "      <th>0</th>\n",
       "      <td>Leon Edwards</td>\n",
       "      <td>Win</td>\n",
       "      <td>unanimous</td>\n",
       "      <td>852</td>\n",
       "    </tr>\n",
       "    <tr>\n",
       "      <th>1</th>\n",
       "      <td>Leon Edwards</td>\n",
       "      <td>Win</td>\n",
       "      <td>split</td>\n",
       "      <td>852</td>\n",
       "    </tr>\n",
       "    <tr>\n",
       "      <th>2</th>\n",
       "      <td>Leon Edwards</td>\n",
       "      <td>Win</td>\n",
       "      <td>unanimous</td>\n",
       "      <td>852</td>\n",
       "    </tr>\n",
       "    <tr>\n",
       "      <th>3</th>\n",
       "      <td>Leon Edwards</td>\n",
       "      <td>Win</td>\n",
       "      <td>punches</td>\n",
       "      <td>852</td>\n",
       "    </tr>\n",
       "    <tr>\n",
       "      <th>4</th>\n",
       "      <td>Leon Edwards</td>\n",
       "      <td>Win</td>\n",
       "      <td>unanimous</td>\n",
       "      <td>852</td>\n",
       "    </tr>\n",
       "  </tbody>\n",
       "</table>\n",
       "</div>"
      ],
      "text/plain": [
       "   Fighter_name Result     Method   ID\n",
       "0  Leon Edwards    Win  unanimous  852\n",
       "1  Leon Edwards    Win      split  852\n",
       "2  Leon Edwards    Win  unanimous  852\n",
       "3  Leon Edwards    Win    punches  852\n",
       "4  Leon Edwards    Win  unanimous  852"
      ]
     },
     "execution_count": 69,
     "metadata": {},
     "output_type": "execute_result"
    }
   ],
   "source": [
    "Jung.head()"
   ]
  },
  {
   "cell_type": "code",
   "execution_count": 70,
   "metadata": {},
   "outputs": [
    {
     "data": {
      "text/plain": [
       "Fighter_name    0\n",
       "Result          0\n",
       "Method          0\n",
       "ID              0\n",
       "dtype: int64"
      ]
     },
     "execution_count": 70,
     "metadata": {},
     "output_type": "execute_result"
    }
   ],
   "source": [
    "Jung.isnull().sum(axis=0)"
   ]
  },
  {
   "cell_type": "markdown",
   "metadata": {},
   "source": [
    "Separating wins and losses for each fighter."
   ]
  },
  {
   "cell_type": "code",
   "execution_count": 71,
   "metadata": {},
   "outputs": [
    {
     "data": {
      "text/html": [
       "<div>\n",
       "<style scoped>\n",
       "    .dataframe tbody tr th:only-of-type {\n",
       "        vertical-align: middle;\n",
       "    }\n",
       "\n",
       "    .dataframe tbody tr th {\n",
       "        vertical-align: top;\n",
       "    }\n",
       "\n",
       "    .dataframe thead th {\n",
       "        text-align: right;\n",
       "    }\n",
       "</style>\n",
       "<table border=\"1\" class=\"dataframe\">\n",
       "  <thead>\n",
       "    <tr style=\"text-align: right;\">\n",
       "      <th></th>\n",
       "      <th>Fighter_name</th>\n",
       "      <th>Result</th>\n",
       "      <th>Method</th>\n",
       "      <th>ID</th>\n",
       "    </tr>\n",
       "  </thead>\n",
       "  <tbody>\n",
       "    <tr>\n",
       "      <th>0</th>\n",
       "      <td>Leon Edwards</td>\n",
       "      <td>Win</td>\n",
       "      <td>unanimous</td>\n",
       "      <td>852</td>\n",
       "    </tr>\n",
       "    <tr>\n",
       "      <th>1</th>\n",
       "      <td>Leon Edwards</td>\n",
       "      <td>Win</td>\n",
       "      <td>split</td>\n",
       "      <td>852</td>\n",
       "    </tr>\n",
       "    <tr>\n",
       "      <th>2</th>\n",
       "      <td>Leon Edwards</td>\n",
       "      <td>Win</td>\n",
       "      <td>unanimous</td>\n",
       "      <td>852</td>\n",
       "    </tr>\n",
       "    <tr>\n",
       "      <th>3</th>\n",
       "      <td>Leon Edwards</td>\n",
       "      <td>Win</td>\n",
       "      <td>punches</td>\n",
       "      <td>852</td>\n",
       "    </tr>\n",
       "    <tr>\n",
       "      <th>4</th>\n",
       "      <td>Leon Edwards</td>\n",
       "      <td>Win</td>\n",
       "      <td>unanimous</td>\n",
       "      <td>852</td>\n",
       "    </tr>\n",
       "  </tbody>\n",
       "</table>\n",
       "</div>"
      ],
      "text/plain": [
       "   Fighter_name Result     Method   ID\n",
       "0  Leon Edwards    Win  unanimous  852\n",
       "1  Leon Edwards    Win      split  852\n",
       "2  Leon Edwards    Win  unanimous  852\n",
       "3  Leon Edwards    Win    punches  852\n",
       "4  Leon Edwards    Win  unanimous  852"
      ]
     },
     "execution_count": 71,
     "metadata": {},
     "output_type": "execute_result"
    }
   ],
   "source": [
    "Jung_win= Jung.loc[Jung.Result == 'Win',:]\n",
    "Jung_loss =  Jung.loc[Jung.Result == 'Loss',:]\n",
    "Jung_win.head()"
   ]
  },
  {
   "cell_type": "code",
   "execution_count": 72,
   "metadata": {},
   "outputs": [],
   "source": [
    "win_count = Jung_win[['ID', 'Result']].groupby('ID').count().reset_index()\n",
    "loss_count = Jung_loss[['ID', 'Result']].groupby('ID').count().reset_index()"
   ]
  },
  {
   "cell_type": "code",
   "execution_count": 73,
   "metadata": {},
   "outputs": [
    {
     "data": {
      "text/plain": [
       "Fighter_name    object\n",
       "Result          object\n",
       "Method          object\n",
       "ID               int64\n",
       "dtype: object"
      ]
     },
     "execution_count": 73,
     "metadata": {},
     "output_type": "execute_result"
    }
   ],
   "source": [
    "Jung_win.dtypes"
   ]
  },
  {
   "cell_type": "code",
   "execution_count": 74,
   "metadata": {},
   "outputs": [],
   "source": [
    "win_methods = pd.DataFrame(Jung_win[['Method', 'ID']].groupby('ID')['Method'].unique()).reset_index()\n",
    "loss_methods = pd.DataFrame(Jung_loss[['Method', 'ID']].groupby('ID')['Method'].unique()).reset_index()"
   ]
  },
  {
   "cell_type": "code",
   "execution_count": 75,
   "metadata": {},
   "outputs": [
    {
     "data": {
      "text/plain": [
       "array(['rear-naked choke', 'boston crab', 'punches', 'doctor stoppage',\n",
       "       'corner stoppage', 'injury', 'punches and elbows',\n",
       "       'rear naked choke', 'punch', 'KO', 'knee'], dtype=object)"
      ]
     },
     "execution_count": 75,
     "metadata": {},
     "output_type": "execute_result"
    }
   ],
   "source": [
    "win_methods.head()[\"Method\"][0]"
   ]
  },
  {
   "cell_type": "code",
   "execution_count": 76,
   "metadata": {},
   "outputs": [
    {
     "data": {
      "text/html": [
       "<div>\n",
       "<style scoped>\n",
       "    .dataframe tbody tr th:only-of-type {\n",
       "        vertical-align: middle;\n",
       "    }\n",
       "\n",
       "    .dataframe tbody tr th {\n",
       "        vertical-align: top;\n",
       "    }\n",
       "\n",
       "    .dataframe thead th {\n",
       "        text-align: right;\n",
       "    }\n",
       "</style>\n",
       "<table border=\"1\" class=\"dataframe\">\n",
       "  <thead>\n",
       "    <tr style=\"text-align: right;\">\n",
       "      <th></th>\n",
       "      <th>ID</th>\n",
       "      <th>Method</th>\n",
       "    </tr>\n",
       "  </thead>\n",
       "  <tbody>\n",
       "    <tr>\n",
       "      <th>0</th>\n",
       "      <td>0</td>\n",
       "      <td>[rear-naked choke, boston crab, punches, docto...</td>\n",
       "    </tr>\n",
       "    <tr>\n",
       "      <th>1</th>\n",
       "      <td>1</td>\n",
       "      <td>[unanimous, armbar, head kick, Decision, injur...</td>\n",
       "    </tr>\n",
       "    <tr>\n",
       "      <th>2</th>\n",
       "      <td>2</td>\n",
       "      <td>[split, majority, rear-naked choke, unanimous,...</td>\n",
       "    </tr>\n",
       "    <tr>\n",
       "      <th>3</th>\n",
       "      <td>3</td>\n",
       "      <td>[unanimous, split, knee injury, punches, punch...</td>\n",
       "    </tr>\n",
       "    <tr>\n",
       "      <th>4</th>\n",
       "      <td>4</td>\n",
       "      <td>[punch, punches]</td>\n",
       "    </tr>\n",
       "  </tbody>\n",
       "</table>\n",
       "</div>"
      ],
      "text/plain": [
       "   ID                                             Method\n",
       "0   0  [rear-naked choke, boston crab, punches, docto...\n",
       "1   1  [unanimous, armbar, head kick, Decision, injur...\n",
       "2   2  [split, majority, rear-naked choke, unanimous,...\n",
       "3   3  [unanimous, split, knee injury, punches, punch...\n",
       "4   4                                   [punch, punches]"
      ]
     },
     "execution_count": 76,
     "metadata": {},
     "output_type": "execute_result"
    }
   ],
   "source": [
    "win_methods.head()"
   ]
  },
  {
   "cell_type": "code",
   "execution_count": 77,
   "metadata": {},
   "outputs": [
    {
     "data": {
      "text/plain": [
       "array(['rear-naked choke', 'elbow and punches', 'knee', 'punches',\n",
       "       'head kick and punches', 'unanimous', 'inverted triangle choke',\n",
       "       'triangle choke', 'arm-triangle choke', 'punch', 'doctor stoppage',\n",
       "       'armbar', 'choke'], dtype=object)"
      ]
     },
     "execution_count": 77,
     "metadata": {},
     "output_type": "execute_result"
    }
   ],
   "source": [
    "win_methods.loc[89,'Method']"
   ]
  },
  {
   "cell_type": "code",
   "execution_count": 78,
   "metadata": {},
   "outputs": [
    {
     "data": {
      "text/html": [
       "<div>\n",
       "<style scoped>\n",
       "    .dataframe tbody tr th:only-of-type {\n",
       "        vertical-align: middle;\n",
       "    }\n",
       "\n",
       "    .dataframe tbody tr th {\n",
       "        vertical-align: top;\n",
       "    }\n",
       "\n",
       "    .dataframe thead th {\n",
       "        text-align: right;\n",
       "    }\n",
       "</style>\n",
       "<table border=\"1\" class=\"dataframe\">\n",
       "  <thead>\n",
       "    <tr style=\"text-align: right;\">\n",
       "      <th></th>\n",
       "      <th>ID</th>\n",
       "      <th>Result</th>\n",
       "    </tr>\n",
       "  </thead>\n",
       "  <tbody>\n",
       "    <tr>\n",
       "      <th>0</th>\n",
       "      <td>0</td>\n",
       "      <td>28</td>\n",
       "    </tr>\n",
       "    <tr>\n",
       "      <th>1</th>\n",
       "      <td>1</td>\n",
       "      <td>30</td>\n",
       "    </tr>\n",
       "    <tr>\n",
       "      <th>2</th>\n",
       "      <td>2</td>\n",
       "      <td>18</td>\n",
       "    </tr>\n",
       "    <tr>\n",
       "      <th>3</th>\n",
       "      <td>3</td>\n",
       "      <td>12</td>\n",
       "    </tr>\n",
       "    <tr>\n",
       "      <th>4</th>\n",
       "      <td>4</td>\n",
       "      <td>10</td>\n",
       "    </tr>\n",
       "  </tbody>\n",
       "</table>\n",
       "</div>"
      ],
      "text/plain": [
       "   ID  Result\n",
       "0   0      28\n",
       "1   1      30\n",
       "2   2      18\n",
       "3   3      12\n",
       "4   4      10"
      ]
     },
     "execution_count": 78,
     "metadata": {},
     "output_type": "execute_result"
    }
   ],
   "source": [
    "win_count.head()"
   ]
  },
  {
   "cell_type": "code",
   "execution_count": 79,
   "metadata": {},
   "outputs": [
    {
     "data": {
      "text/html": [
       "<div>\n",
       "<style scoped>\n",
       "    .dataframe tbody tr th:only-of-type {\n",
       "        vertical-align: middle;\n",
       "    }\n",
       "\n",
       "    .dataframe tbody tr th {\n",
       "        vertical-align: top;\n",
       "    }\n",
       "\n",
       "    .dataframe thead th {\n",
       "        text-align: right;\n",
       "    }\n",
       "</style>\n",
       "<table border=\"1\" class=\"dataframe\">\n",
       "  <thead>\n",
       "    <tr style=\"text-align: right;\">\n",
       "      <th></th>\n",
       "      <th>ID</th>\n",
       "      <th>Result</th>\n",
       "    </tr>\n",
       "  </thead>\n",
       "  <tbody>\n",
       "    <tr>\n",
       "      <th>847</th>\n",
       "      <td>852</td>\n",
       "      <td>18</td>\n",
       "    </tr>\n",
       "  </tbody>\n",
       "</table>\n",
       "</div>"
      ],
      "text/plain": [
       "      ID  Result\n",
       "847  852      18"
      ]
     },
     "execution_count": 79,
     "metadata": {},
     "output_type": "execute_result"
    }
   ],
   "source": [
    "win_count.loc[win_count.ID == 852, :]"
   ]
  },
  {
   "cell_type": "code",
   "execution_count": 80,
   "metadata": {},
   "outputs": [
    {
     "name": "stdout",
     "output_type": "stream",
     "text": [
      "(1475, 2) (1475, 2) (1464, 2) (1464, 2)\n"
     ]
    }
   ],
   "source": [
    "print(win_count.shape, win_methods.shape,loss_count.shape, loss_methods.shape)"
   ]
  },
  {
   "cell_type": "markdown",
   "metadata": {},
   "source": [
    "That means not every fighters have lost or vice versa. Careful while merging them."
   ]
  },
  {
   "cell_type": "markdown",
   "metadata": {},
   "source": [
    "Merging them"
   ]
  },
  {
   "cell_type": "code",
   "execution_count": 81,
   "metadata": {},
   "outputs": [
    {
     "data": {
      "text/html": [
       "<div>\n",
       "<style scoped>\n",
       "    .dataframe tbody tr th:only-of-type {\n",
       "        vertical-align: middle;\n",
       "    }\n",
       "\n",
       "    .dataframe tbody tr th {\n",
       "        vertical-align: top;\n",
       "    }\n",
       "\n",
       "    .dataframe thead th {\n",
       "        text-align: right;\n",
       "    }\n",
       "</style>\n",
       "<table border=\"1\" class=\"dataframe\">\n",
       "  <thead>\n",
       "    <tr style=\"text-align: right;\">\n",
       "      <th></th>\n",
       "      <th>ID</th>\n",
       "      <th>Result</th>\n",
       "      <th>Method</th>\n",
       "      <th>Fighter_name</th>\n",
       "    </tr>\n",
       "  </thead>\n",
       "  <tbody>\n",
       "    <tr>\n",
       "      <th>0</th>\n",
       "      <td>0</td>\n",
       "      <td>28</td>\n",
       "      <td>[rear-naked choke, boston crab, punches, docto...</td>\n",
       "      <td>Aaron Brink</td>\n",
       "    </tr>\n",
       "    <tr>\n",
       "      <th>1</th>\n",
       "      <td>1</td>\n",
       "      <td>30</td>\n",
       "      <td>[unanimous, armbar, head kick, Decision, injur...</td>\n",
       "      <td>Aaron Riley</td>\n",
       "    </tr>\n",
       "    <tr>\n",
       "      <th>2</th>\n",
       "      <td>2</td>\n",
       "      <td>18</td>\n",
       "      <td>[split, majority, rear-naked choke, unanimous,...</td>\n",
       "      <td>Aaron Rosa</td>\n",
       "    </tr>\n",
       "    <tr>\n",
       "      <th>3</th>\n",
       "      <td>3</td>\n",
       "      <td>12</td>\n",
       "      <td>[unanimous, split, knee injury, punches, punch...</td>\n",
       "      <td>Aaron Simpson</td>\n",
       "    </tr>\n",
       "    <tr>\n",
       "      <th>4</th>\n",
       "      <td>4</td>\n",
       "      <td>10</td>\n",
       "      <td>[punch, punches]</td>\n",
       "      <td>Abdul Razak Alhassan</td>\n",
       "    </tr>\n",
       "  </tbody>\n",
       "</table>\n",
       "</div>"
      ],
      "text/plain": [
       "   ID  Result                                             Method  \\\n",
       "0   0      28  [rear-naked choke, boston crab, punches, docto...   \n",
       "1   1      30  [unanimous, armbar, head kick, Decision, injur...   \n",
       "2   2      18  [split, majority, rear-naked choke, unanimous,...   \n",
       "3   3      12  [unanimous, split, knee injury, punches, punch...   \n",
       "4   4      10                                   [punch, punches]   \n",
       "\n",
       "           Fighter_name  \n",
       "0           Aaron Brink  \n",
       "1           Aaron Riley  \n",
       "2            Aaron Rosa  \n",
       "3         Aaron Simpson  \n",
       "4  Abdul Razak Alhassan  "
      ]
     },
     "execution_count": 81,
     "metadata": {},
     "output_type": "execute_result"
    }
   ],
   "source": [
    "from functools import reduce\n",
    "df_temp =[win_count, win_methods, ID_2_name]\n",
    "Jung_new = reduce(lambda left,right: pd.merge(left,right,on='ID'), df_temp)\n",
    "Jung_new.head()"
   ]
  },
  {
   "cell_type": "markdown",
   "metadata": {},
   "source": [
    "Renaming the headings."
   ]
  },
  {
   "cell_type": "code",
   "execution_count": 82,
   "metadata": {},
   "outputs": [],
   "source": [
    "Jung_new.rename(columns={'Fighter_name': 'Name',\n",
    "                          'Result':'Wins',\n",
    "                          'Method':'Win_Method'}, \n",
    "                 inplace=True)"
   ]
  },
  {
   "cell_type": "code",
   "execution_count": 83,
   "metadata": {},
   "outputs": [
    {
     "data": {
      "text/html": [
       "<div>\n",
       "<style scoped>\n",
       "    .dataframe tbody tr th:only-of-type {\n",
       "        vertical-align: middle;\n",
       "    }\n",
       "\n",
       "    .dataframe tbody tr th {\n",
       "        vertical-align: top;\n",
       "    }\n",
       "\n",
       "    .dataframe thead th {\n",
       "        text-align: right;\n",
       "    }\n",
       "</style>\n",
       "<table border=\"1\" class=\"dataframe\">\n",
       "  <thead>\n",
       "    <tr style=\"text-align: right;\">\n",
       "      <th></th>\n",
       "      <th>ID</th>\n",
       "      <th>Wins</th>\n",
       "      <th>Win_Method</th>\n",
       "      <th>Name</th>\n",
       "    </tr>\n",
       "  </thead>\n",
       "  <tbody>\n",
       "    <tr>\n",
       "      <th>0</th>\n",
       "      <td>0</td>\n",
       "      <td>28</td>\n",
       "      <td>[rear-naked choke, boston crab, punches, docto...</td>\n",
       "      <td>Aaron Brink</td>\n",
       "    </tr>\n",
       "    <tr>\n",
       "      <th>1</th>\n",
       "      <td>1</td>\n",
       "      <td>30</td>\n",
       "      <td>[unanimous, armbar, head kick, Decision, injur...</td>\n",
       "      <td>Aaron Riley</td>\n",
       "    </tr>\n",
       "    <tr>\n",
       "      <th>2</th>\n",
       "      <td>2</td>\n",
       "      <td>18</td>\n",
       "      <td>[split, majority, rear-naked choke, unanimous,...</td>\n",
       "      <td>Aaron Rosa</td>\n",
       "    </tr>\n",
       "    <tr>\n",
       "      <th>3</th>\n",
       "      <td>3</td>\n",
       "      <td>12</td>\n",
       "      <td>[unanimous, split, knee injury, punches, punch...</td>\n",
       "      <td>Aaron Simpson</td>\n",
       "    </tr>\n",
       "    <tr>\n",
       "      <th>4</th>\n",
       "      <td>4</td>\n",
       "      <td>10</td>\n",
       "      <td>[punch, punches]</td>\n",
       "      <td>Abdul Razak Alhassan</td>\n",
       "    </tr>\n",
       "  </tbody>\n",
       "</table>\n",
       "</div>"
      ],
      "text/plain": [
       "   ID  Wins                                         Win_Method  \\\n",
       "0   0    28  [rear-naked choke, boston crab, punches, docto...   \n",
       "1   1    30  [unanimous, armbar, head kick, Decision, injur...   \n",
       "2   2    18  [split, majority, rear-naked choke, unanimous,...   \n",
       "3   3    12  [unanimous, split, knee injury, punches, punch...   \n",
       "4   4    10                                   [punch, punches]   \n",
       "\n",
       "                   Name  \n",
       "0           Aaron Brink  \n",
       "1           Aaron Riley  \n",
       "2            Aaron Rosa  \n",
       "3         Aaron Simpson  \n",
       "4  Abdul Razak Alhassan  "
      ]
     },
     "execution_count": 83,
     "metadata": {},
     "output_type": "execute_result"
    }
   ],
   "source": [
    "Jung_new.head()"
   ]
  },
  {
   "cell_type": "code",
   "execution_count": 84,
   "metadata": {},
   "outputs": [
    {
     "name": "stdout",
     "output_type": "stream",
     "text": [
      "(1461, 2) (1475, 4)\n"
     ]
    }
   ],
   "source": [
    "print(Yodha.shape, Jung_new.shape)"
   ]
  },
  {
   "cell_type": "code",
   "execution_count": 85,
   "metadata": {},
   "outputs": [],
   "source": [
    "All_in_one = pd.merge(Yodha,Jung_new,on = 'Name')"
   ]
  },
  {
   "cell_type": "code",
   "execution_count": 86,
   "metadata": {},
   "outputs": [
    {
     "data": {
      "text/html": [
       "<div>\n",
       "<style scoped>\n",
       "    .dataframe tbody tr th:only-of-type {\n",
       "        vertical-align: middle;\n",
       "    }\n",
       "\n",
       "    .dataframe tbody tr th {\n",
       "        vertical-align: top;\n",
       "    }\n",
       "\n",
       "    .dataframe thead th {\n",
       "        text-align: right;\n",
       "    }\n",
       "</style>\n",
       "<table border=\"1\" class=\"dataframe\">\n",
       "  <thead>\n",
       "    <tr style=\"text-align: right;\">\n",
       "      <th></th>\n",
       "      <th>Name</th>\n",
       "      <th>Style</th>\n",
       "      <th>ID</th>\n",
       "      <th>Wins</th>\n",
       "      <th>Win_Method</th>\n",
       "    </tr>\n",
       "  </thead>\n",
       "  <tbody>\n",
       "    <tr>\n",
       "      <th>0</th>\n",
       "      <td>Leon Edwards</td>\n",
       "      <td>NaN</td>\n",
       "      <td>852</td>\n",
       "      <td>18</td>\n",
       "      <td>[unanimous, split, punches, rear-naked choke, ...</td>\n",
       "    </tr>\n",
       "    <tr>\n",
       "      <th>1</th>\n",
       "      <td>Rafael dos Anjos</td>\n",
       "      <td>BJJ, Muay_Thai</td>\n",
       "      <td>1138</td>\n",
       "      <td>29</td>\n",
       "      <td>[arm-triangle choke, unanimous, body kick and ...</td>\n",
       "    </tr>\n",
       "    <tr>\n",
       "      <th>2</th>\n",
       "      <td>Walt Harris</td>\n",
       "      <td>NaN</td>\n",
       "      <td>1437</td>\n",
       "      <td>13</td>\n",
       "      <td>[punches, knees and punches, punches and elbow...</td>\n",
       "    </tr>\n",
       "    <tr>\n",
       "      <th>3</th>\n",
       "      <td>Aleksei Oleinik</td>\n",
       "      <td>Sambo, BJJ</td>\n",
       "      <td>28</td>\n",
       "      <td>34</td>\n",
       "      <td>[rear-naked choke, Ezekiel choke, neck crank, ...</td>\n",
       "    </tr>\n",
       "    <tr>\n",
       "      <th>4</th>\n",
       "      <td>Greg Hardy</td>\n",
       "      <td>Boxing</td>\n",
       "      <td>519</td>\n",
       "      <td>5</td>\n",
       "      <td>[punches]</td>\n",
       "    </tr>\n",
       "  </tbody>\n",
       "</table>\n",
       "</div>"
      ],
      "text/plain": [
       "               Name           Style    ID  Wins  \\\n",
       "0      Leon Edwards             NaN   852    18   \n",
       "1  Rafael dos Anjos  BJJ, Muay_Thai  1138    29   \n",
       "2       Walt Harris             NaN  1437    13   \n",
       "3   Aleksei Oleinik      Sambo, BJJ    28    34   \n",
       "4        Greg Hardy          Boxing   519     5   \n",
       "\n",
       "                                          Win_Method  \n",
       "0  [unanimous, split, punches, rear-naked choke, ...  \n",
       "1  [arm-triangle choke, unanimous, body kick and ...  \n",
       "2  [punches, knees and punches, punches and elbow...  \n",
       "3  [rear-naked choke, Ezekiel choke, neck crank, ...  \n",
       "4                                          [punches]  "
      ]
     },
     "execution_count": 86,
     "metadata": {},
     "output_type": "execute_result"
    }
   ],
   "source": [
    "All_in_one.head()"
   ]
  },
  {
   "cell_type": "markdown",
   "metadata": {},
   "source": [
    "# Next steps:\n",
    "Predict style for each fighter based on their winning methods.<br>\n",
    "Count the wins for each fighting style.<br>\n",
    "Graph the result."
   ]
  },
  {
   "cell_type": "code",
   "execution_count": 87,
   "metadata": {},
   "outputs": [],
   "source": [
    "Try = All_in_one[['Name', 'ID', 'Style', 'Wins', 'Win_Method']].copy(deep = True)"
   ]
  },
  {
   "cell_type": "code",
   "execution_count": 88,
   "metadata": {},
   "outputs": [
    {
     "data": {
      "text/plain": [
       "Name            0\n",
       "ID              0\n",
       "Style         934\n",
       "Wins            0\n",
       "Win_Method      0\n",
       "dtype: int64"
      ]
     },
     "execution_count": 88,
     "metadata": {},
     "output_type": "execute_result"
    }
   ],
   "source": [
    "Try.isnull().sum(axis = 0)"
   ]
  },
  {
   "cell_type": "markdown",
   "metadata": {},
   "source": [
    "# I want to create a list of 10 dictionaries with styles as key and sample space as the values."
   ]
  },
  {
   "cell_type": "code",
   "execution_count": 89,
   "metadata": {},
   "outputs": [
    {
     "data": {
      "text/plain": [
       "array(['unanimous', 'kimura', 'rear-naked choke', 'punches'], dtype=object)"
      ]
     },
     "execution_count": 89,
     "metadata": {},
     "output_type": "execute_result"
    }
   ],
   "source": [
    "Try.loc[Try.Style == 'BJJ',\"Win_Method\"].tolist()[0]"
   ]
  },
  {
   "cell_type": "code",
   "execution_count": 90,
   "metadata": {},
   "outputs": [],
   "source": [
    "def supportfunc(x):\n",
    "    empty = []\n",
    "    for each in x:\n",
    "        for each1 in each:\n",
    "            empty.append(each1)\n",
    "    return empty"
   ]
  },
  {
   "cell_type": "code",
   "execution_count": 91,
   "metadata": {},
   "outputs": [],
   "source": [
    "#It convert list of lists of strings to a list of strings.\n",
    "def supportfunc1(x):\n",
    "    empty = []\n",
    "    for each in x:\n",
    "        for again in each:\n",
    "            empty.append(again.split(', '))\n",
    "    return empty"
   ]
  },
  {
   "cell_type": "code",
   "execution_count": 92,
   "metadata": {},
   "outputs": [],
   "source": [
    "from collections import Counter\n",
    "def somethingeight(x):\n",
    "    anotherone = []\n",
    "    temp =Try.loc[Try.Style == x,\"Win_Method\"].tolist()\n",
    "    ekchin = supportfunc(temp)\n",
    "    for auta in Counter(ekchin).most_common(5):\n",
    "        anotherone.append(auta[0])\n",
    "    return(anotherone)"
   ]
  },
  {
   "cell_type": "code",
   "execution_count": 93,
   "metadata": {},
   "outputs": [],
   "source": [
    "eight = ['BJJ', 'Muay_Thai', 'Sambo', 'Boxing', 'Wrestling', 'Grappling', 'Kickboxing', 'Judo']\n",
    "eight_values= [somethingeight(each) for each in eight]\n",
    "dicte = dict(zip(eight,eight_values))"
   ]
  },
  {
   "cell_type": "code",
   "execution_count": 94,
   "metadata": {},
   "outputs": [],
   "source": [
    "def thahaxaina(x,y):\n",
    "    empty = []\n",
    "    for i in range(len(x)):\n",
    "        #smthelse is a set\n",
    "        smthelse= set(x[i])\n",
    "        pahilo= y[i]\n",
    "        #pahilo is a list too\n",
    "        for sano in pahilo:\n",
    "            #sano is a string\n",
    "            if sano in eight:\n",
    "                smthelse-= set(dicte[sano]) #this is also a set\n",
    "        empty+= [s for s in smthelse]\n",
    "    return empty"
   ]
  },
  {
   "cell_type": "code",
   "execution_count": 95,
   "metadata": {},
   "outputs": [],
   "source": [
    "#For karate and Taekwondo\n",
    "def somethingKT(x):\n",
    "    anotherone = []\n",
    "    temp =Try.dropna()[Try.dropna().Style.str.match(x)]['Win_Method'].tolist()\n",
    "    empty = []\n",
    "    for each in temp:\n",
    "        for each1 in each:\n",
    "            empty.append(each1)\n",
    "    temp1 = Try.dropna()[Try.dropna().Style.str.match(x)]['Style'].tolist()\n",
    "    empty1 =[]\n",
    "    for each in temp1:\n",
    "        empty1.append(each.split(','))\n",
    "    ekchin= thahaxaina(temp, empty1)\n",
    "    for auta in Counter(ekchin).most_common(5):\n",
    "        anotherone.append(auta[0])\n",
    "    return(anotherone)"
   ]
  },
  {
   "cell_type": "code",
   "execution_count": 96,
   "metadata": {},
   "outputs": [],
   "source": [
    "twoRemain = ['Taekwondo', 'Karate']\n",
    "twoRemain_value = [somethingKT(twoRemain[i]) for i in [0,1]]\n",
    "dicte2 = dict(zip(twoRemain,twoRemain_value))"
   ]
  },
  {
   "cell_type": "code",
   "execution_count": 97,
   "metadata": {},
   "outputs": [
    {
     "data": {
      "text/plain": [
       "['BJJ',\n",
       " 'Muay_Thai',\n",
       " 'Sambo',\n",
       " 'Boxing',\n",
       " 'Wrestling',\n",
       " 'Grappling',\n",
       " 'Kickboxing',\n",
       " 'Judo',\n",
       " 'Taekwondo',\n",
       " 'Karate']"
      ]
     },
     "execution_count": 97,
     "metadata": {},
     "output_type": "execute_result"
    }
   ],
   "source": [
    "Final_Dict = dict(dicte, **dicte2)\n",
    "Final_CateGory = eight+twoRemain\n",
    "dicte2\n",
    "Final_CateGory"
   ]
  },
  {
   "cell_type": "markdown",
   "metadata": {},
   "source": [
    "# Classification\n",
    "Classifying every fighter to any of 10 styles. Looking through Sentiment classification."
   ]
  },
  {
   "cell_type": "code",
   "execution_count": 98,
   "metadata": {},
   "outputs": [],
   "source": [
    "import math\n",
    "\n",
    "def counter_cosine_similarity(listA, listB):\n",
    "    listC =[]\n",
    "    c=5\n",
    "    for i in listB:\n",
    "        for j in range(c):\n",
    "            listC.append(i)\n",
    "        c-=1\n",
    "    c1 = Counter(listA)\n",
    "    c2 = Counter(listC)\n",
    "    terms = set(c1).union(c2)\n",
    "    dotprod = sum(c1.get(k, 0) * c2.get(k, 0) for k in terms)\n",
    "    magA = math.sqrt(sum(c1.get(k, 0)**2 for k in terms))\n",
    "    magB = math.sqrt(sum(c2.get(k, 0)**2 for k in terms))\n",
    "    return dotprod / (magA * magB)\n",
    "\n",
    "#print(counter_cosine_similarity(counterA, counterB) * 100)"
   ]
  },
  {
   "cell_type": "code",
   "execution_count": 99,
   "metadata": {},
   "outputs": [
    {
     "data": {
      "text/html": [
       "<div>\n",
       "<style scoped>\n",
       "    .dataframe tbody tr th:only-of-type {\n",
       "        vertical-align: middle;\n",
       "    }\n",
       "\n",
       "    .dataframe tbody tr th {\n",
       "        vertical-align: top;\n",
       "    }\n",
       "\n",
       "    .dataframe thead th {\n",
       "        text-align: right;\n",
       "    }\n",
       "</style>\n",
       "<table border=\"1\" class=\"dataframe\">\n",
       "  <thead>\n",
       "    <tr style=\"text-align: right;\">\n",
       "      <th></th>\n",
       "      <th>Name</th>\n",
       "      <th>ID</th>\n",
       "      <th>Style</th>\n",
       "      <th>Wins</th>\n",
       "      <th>Win_Method</th>\n",
       "    </tr>\n",
       "  </thead>\n",
       "  <tbody>\n",
       "    <tr>\n",
       "      <th>0</th>\n",
       "      <td>Leon Edwards</td>\n",
       "      <td>852</td>\n",
       "      <td>Boxing</td>\n",
       "      <td>18</td>\n",
       "      <td>[unanimous, split, punches, rear-naked choke, ...</td>\n",
       "    </tr>\n",
       "    <tr>\n",
       "      <th>1</th>\n",
       "      <td>Rafael dos Anjos</td>\n",
       "      <td>1138</td>\n",
       "      <td>BJJ</td>\n",
       "      <td>29</td>\n",
       "      <td>[arm-triangle choke, unanimous, body kick and ...</td>\n",
       "    </tr>\n",
       "    <tr>\n",
       "      <th>2</th>\n",
       "      <td>Walt Harris</td>\n",
       "      <td>1437</td>\n",
       "      <td>Karate</td>\n",
       "      <td>13</td>\n",
       "      <td>[punches, knees and punches, punches and elbow...</td>\n",
       "    </tr>\n",
       "    <tr>\n",
       "      <th>3</th>\n",
       "      <td>Aleksei Oleinik</td>\n",
       "      <td>28</td>\n",
       "      <td>BJJ</td>\n",
       "      <td>34</td>\n",
       "      <td>[rear-naked choke, Ezekiel choke, neck crank, ...</td>\n",
       "    </tr>\n",
       "    <tr>\n",
       "      <th>4</th>\n",
       "      <td>Greg Hardy</td>\n",
       "      <td>519</td>\n",
       "      <td>Boxing</td>\n",
       "      <td>5</td>\n",
       "      <td>[punches]</td>\n",
       "    </tr>\n",
       "    <tr>\n",
       "      <th>5</th>\n",
       "      <td>Juan Adams</td>\n",
       "      <td>747</td>\n",
       "      <td>Boxing</td>\n",
       "      <td>5</td>\n",
       "      <td>[punches, submission to punches]</td>\n",
       "    </tr>\n",
       "    <tr>\n",
       "      <th>6</th>\n",
       "      <td>Dan Hooker</td>\n",
       "      <td>309</td>\n",
       "      <td>Kickboxing</td>\n",
       "      <td>18</td>\n",
       "      <td>[punches, knee, guillotine choke, head kick an...</td>\n",
       "    </tr>\n",
       "    <tr>\n",
       "      <th>7</th>\n",
       "      <td>James Vick</td>\n",
       "      <td>596</td>\n",
       "      <td>BJJ</td>\n",
       "      <td>13</td>\n",
       "      <td>[unanimous, punches, D'Arce choke, guillotine ...</td>\n",
       "    </tr>\n",
       "    <tr>\n",
       "      <th>8</th>\n",
       "      <td>Alexander Hernandez</td>\n",
       "      <td>45</td>\n",
       "      <td>Boxing</td>\n",
       "      <td>11</td>\n",
       "      <td>[unanimous, punch, punches, rear-naked choke]</td>\n",
       "    </tr>\n",
       "    <tr>\n",
       "      <th>9</th>\n",
       "      <td>Francisco Trinaldo</td>\n",
       "      <td>472</td>\n",
       "      <td>Sambo</td>\n",
       "      <td>23</td>\n",
       "      <td>[knee to the body, unanimous, doctor stoppage,...</td>\n",
       "    </tr>\n",
       "    <tr>\n",
       "      <th>10</th>\n",
       "      <td>Andrei Arlovski</td>\n",
       "      <td>72</td>\n",
       "      <td>Judo</td>\n",
       "      <td>28</td>\n",
       "      <td>[unanimous, punches, split, head kick, punch, ...</td>\n",
       "    </tr>\n",
       "    <tr>\n",
       "      <th>11</th>\n",
       "      <td>Ben Rothwell</td>\n",
       "      <td>126</td>\n",
       "      <td>Sambo</td>\n",
       "      <td>36</td>\n",
       "      <td>[guillotine choke, punches, unanimous, elbows,...</td>\n",
       "    </tr>\n",
       "    <tr>\n",
       "      <th>12</th>\n",
       "      <td>Alex Caceres</td>\n",
       "      <td>32</td>\n",
       "      <td>BJJ</td>\n",
       "      <td>15</td>\n",
       "      <td>[unanimous, split, doctor stoppage, rear-naked...</td>\n",
       "    </tr>\n",
       "    <tr>\n",
       "      <th>13</th>\n",
       "      <td>Steven Peterson</td>\n",
       "      <td>1324</td>\n",
       "      <td>BJJ</td>\n",
       "      <td>17</td>\n",
       "      <td>[split, punches, rear-naked choke, unanimous, ...</td>\n",
       "    </tr>\n",
       "    <tr>\n",
       "      <th>14</th>\n",
       "      <td>Raquel Pennington</td>\n",
       "      <td>1148</td>\n",
       "      <td>Wrestling</td>\n",
       "      <td>10</td>\n",
       "      <td>[split, unanimous, rear-naked choke, bulldog c...</td>\n",
       "    </tr>\n",
       "  </tbody>\n",
       "</table>\n",
       "</div>"
      ],
      "text/plain": [
       "                   Name    ID       Style  Wins  \\\n",
       "0          Leon Edwards   852      Boxing    18   \n",
       "1      Rafael dos Anjos  1138         BJJ    29   \n",
       "2           Walt Harris  1437      Karate    13   \n",
       "3       Aleksei Oleinik    28         BJJ    34   \n",
       "4            Greg Hardy   519      Boxing     5   \n",
       "5            Juan Adams   747      Boxing     5   \n",
       "6            Dan Hooker   309  Kickboxing    18   \n",
       "7            James Vick   596         BJJ    13   \n",
       "8   Alexander Hernandez    45      Boxing    11   \n",
       "9    Francisco Trinaldo   472       Sambo    23   \n",
       "10      Andrei Arlovski    72        Judo    28   \n",
       "11         Ben Rothwell   126       Sambo    36   \n",
       "12         Alex Caceres    32         BJJ    15   \n",
       "13      Steven Peterson  1324         BJJ    17   \n",
       "14    Raquel Pennington  1148   Wrestling    10   \n",
       "\n",
       "                                           Win_Method  \n",
       "0   [unanimous, split, punches, rear-naked choke, ...  \n",
       "1   [arm-triangle choke, unanimous, body kick and ...  \n",
       "2   [punches, knees and punches, punches and elbow...  \n",
       "3   [rear-naked choke, Ezekiel choke, neck crank, ...  \n",
       "4                                           [punches]  \n",
       "5                    [punches, submission to punches]  \n",
       "6   [punches, knee, guillotine choke, head kick an...  \n",
       "7   [unanimous, punches, D'Arce choke, guillotine ...  \n",
       "8       [unanimous, punch, punches, rear-naked choke]  \n",
       "9   [knee to the body, unanimous, doctor stoppage,...  \n",
       "10  [unanimous, punches, split, head kick, punch, ...  \n",
       "11  [guillotine choke, punches, unanimous, elbows,...  \n",
       "12  [unanimous, split, doctor stoppage, rear-naked...  \n",
       "13  [split, punches, rear-naked choke, unanimous, ...  \n",
       "14  [split, unanimous, rear-naked choke, bulldog c...  "
      ]
     },
     "execution_count": 99,
     "metadata": {},
     "output_type": "execute_result"
    }
   ],
   "source": [
    "for i in range(len(Try['Win_Method'])):\n",
    "    ref=0\n",
    "    c=0\n",
    "    index=0\n",
    "    for j in range(len(Final_CateGory)):\n",
    "        c=counter_cosine_similarity(Try['Win_Method'][i],Final_Dict[Final_CateGory[j]])\n",
    "        if c>ref : ref=c; index=j\n",
    "    if i==0: style1=[Final_CateGory[index]]\n",
    "    else: style1.append(Final_CateGory[index])\n",
    "Try['Style']=style1\n",
    "Try.head(15)"
   ]
  },
  {
   "cell_type": "code",
   "execution_count": 100,
   "metadata": {},
   "outputs": [
    {
     "data": {
      "text/html": [
       "<div>\n",
       "<style scoped>\n",
       "    .dataframe tbody tr th:only-of-type {\n",
       "        vertical-align: middle;\n",
       "    }\n",
       "\n",
       "    .dataframe tbody tr th {\n",
       "        vertical-align: top;\n",
       "    }\n",
       "\n",
       "    .dataframe thead th {\n",
       "        text-align: right;\n",
       "    }\n",
       "</style>\n",
       "<table border=\"1\" class=\"dataframe\">\n",
       "  <thead>\n",
       "    <tr style=\"text-align: right;\">\n",
       "      <th></th>\n",
       "      <th>Style</th>\n",
       "      <th>Wins</th>\n",
       "    </tr>\n",
       "  </thead>\n",
       "  <tbody>\n",
       "    <tr>\n",
       "      <th>0</th>\n",
       "      <td>BJJ</td>\n",
       "      <td>9249</td>\n",
       "    </tr>\n",
       "    <tr>\n",
       "      <th>1</th>\n",
       "      <td>Boxing</td>\n",
       "      <td>4803</td>\n",
       "    </tr>\n",
       "    <tr>\n",
       "      <th>2</th>\n",
       "      <td>Grappling</td>\n",
       "      <td>90</td>\n",
       "    </tr>\n",
       "    <tr>\n",
       "      <th>3</th>\n",
       "      <td>Judo</td>\n",
       "      <td>1221</td>\n",
       "    </tr>\n",
       "    <tr>\n",
       "      <th>4</th>\n",
       "      <td>Karate</td>\n",
       "      <td>1061</td>\n",
       "    </tr>\n",
       "    <tr>\n",
       "      <th>5</th>\n",
       "      <td>Kickboxing</td>\n",
       "      <td>1811</td>\n",
       "    </tr>\n",
       "    <tr>\n",
       "      <th>6</th>\n",
       "      <td>Muay_Thai</td>\n",
       "      <td>2965</td>\n",
       "    </tr>\n",
       "    <tr>\n",
       "      <th>7</th>\n",
       "      <td>Sambo</td>\n",
       "      <td>2729</td>\n",
       "    </tr>\n",
       "    <tr>\n",
       "      <th>8</th>\n",
       "      <td>Wrestling</td>\n",
       "      <td>94</td>\n",
       "    </tr>\n",
       "  </tbody>\n",
       "</table>\n",
       "</div>"
      ],
      "text/plain": [
       "        Style  Wins\n",
       "0         BJJ  9249\n",
       "1      Boxing  4803\n",
       "2   Grappling    90\n",
       "3        Judo  1221\n",
       "4      Karate  1061\n",
       "5  Kickboxing  1811\n",
       "6   Muay_Thai  2965\n",
       "7       Sambo  2729\n",
       "8   Wrestling    94"
      ]
     },
     "execution_count": 100,
     "metadata": {},
     "output_type": "execute_result"
    }
   ],
   "source": [
    "Win_style = Try[['Wins','Style']].groupby('Style').sum().reset_index()\n",
    "Win_style"
   ]
  },
  {
   "cell_type": "markdown",
   "metadata": {},
   "source": [
    "# Visulization"
   ]
  },
  {
   "cell_type": "markdown",
   "metadata": {},
   "source": [
    "# What's the superior style"
   ]
  },
  {
   "cell_type": "code",
   "execution_count": 101,
   "metadata": {},
   "outputs": [
    {
     "data": {
      "image/png": "[encoded data removed]",
      "text/plain": [
       "<Figure size 864x576 with 1 Axes>"
      ]
     },
     "metadata": {},
     "output_type": "display_data"
    }
   ],
   "source": [
    "import matplotlib.pyplot as plt\n",
    "plt.style.use('fivethirtyeight')\n",
    "plt.figure(figsize=(12, 8))\n",
    "plt.bar(Win_style['Style'],Win_style['Wins'], label=\"What's the best style\", color=['brown', 'red', 'green', 'blue', 'cyan', 'black', 'orange', 'magenta'])\n",
    "plt.legend()\n",
    "plt.xlabel('Styles', size = 30)\n",
    "plt.ylabel('Total wins', size = 30)\n",
    "plt.title('UFC- MMA Styles', size = 30)\n",
    "plt.savefig('main_bar_graph.jpg', bbox_inches = 'tight')\n",
    "plt.show()"
   ]
  },
  {
   "cell_type": "code",
   "execution_count": 102,
   "metadata": {},
   "outputs": [
    {
     "data": {
      "image/png": "[encoded data removed]",
      "text/plain": [
       "<Figure size 720x576 with 1 Axes>"
      ]
     },
     "metadata": {},
     "output_type": "display_data"
    }
   ],
   "source": [
    "import matplotlib.pyplot as plt\n",
    "plt.style.use('fivethirtyeight')\n",
    "plt.figure(figsize=(10, 8))\n",
    "plt.pie(Win_style['Wins'], labels = Win_style['Style'], radius= 1, autopct ='%0.1f%%', explode = [0.1,0,0,0,0,0,0,0,0])\n",
    "plt.title('UFC- What\\'s the best style', size = 30)\n",
    "plt.savefig('main_Pie_chart.jpg', bbox_inches = 'tight')\n",
    "plt.show()"
   ]
  },
  {
   "cell_type": "code",
   "execution_count": 103,
   "metadata": {},
   "outputs": [
    {
     "data": {
      "image/png": "[encoded data removed]",
      "text/plain": [
       "<Figure size 1800x1440 with 1 Axes>"
      ]
     },
     "metadata": {},
     "output_type": "display_data"
    }
   ],
   "source": [
    "#Different shade of color here represent a single fighter's win in that style.\n",
    "win_style = Try.groupby(['Wins','Style'])['Wins'].count().unstack(0).plot.barh(title=\"What's the best style?\", figsize=(25,20),stacked = True)\n",
    "_ = win_style.set_xlabel('Wins')\n",
    "_ = win_style.set_ylabel('Styles')\n",
    "win_style.figure.savefig('main_stacked.jpg')"
   ]
  },
  {
   "cell_type": "code",
   "execution_count": 163,
   "metadata": {},
   "outputs": [],
   "source": [
    "a = fights[['Fighter_name','Result', 'Date', 'Round', 'Time']].copy(deep = True)"
   ]
  },
  {
   "cell_type": "code",
   "execution_count": 164,
   "metadata": {},
   "outputs": [],
   "source": [
    "b = Try[['Name','Style']].copy(deep = True)"
   ]
  },
  {
   "cell_type": "code",
   "execution_count": 165,
   "metadata": {},
   "outputs": [],
   "source": [
    "a.columns = ['Name','Result', 'Date', 'Round', 'Time']"
   ]
  },
  {
   "cell_type": "code",
   "execution_count": 166,
   "metadata": {},
   "outputs": [],
   "source": [
    "a =a.merge(b, on = 'Name'); a['Date']=a['Date'].str.extract(r'(\\d{4})'); "
   ]
  },
  {
   "cell_type": "code",
   "execution_count": 167,
   "metadata": {},
   "outputs": [],
   "source": [
    "a['Result']= [1 if x=='Win' else 0 for x in a['Result']]"
   ]
  },
  {
   "cell_type": "code",
   "execution_count": 168,
   "metadata": {},
   "outputs": [
    {
     "data": {
      "text/html": [
       "<div>\n",
       "<style scoped>\n",
       "    .dataframe tbody tr th:only-of-type {\n",
       "        vertical-align: middle;\n",
       "    }\n",
       "\n",
       "    .dataframe tbody tr th {\n",
       "        vertical-align: top;\n",
       "    }\n",
       "\n",
       "    .dataframe thead th {\n",
       "        text-align: right;\n",
       "    }\n",
       "</style>\n",
       "<table border=\"1\" class=\"dataframe\">\n",
       "  <thead>\n",
       "    <tr style=\"text-align: right;\">\n",
       "      <th></th>\n",
       "      <th>Name</th>\n",
       "      <th>Result</th>\n",
       "      <th>Date</th>\n",
       "      <th>Round</th>\n",
       "      <th>Time</th>\n",
       "      <th>Style</th>\n",
       "    </tr>\n",
       "  </thead>\n",
       "  <tbody>\n",
       "    <tr>\n",
       "      <th>0</th>\n",
       "      <td>Leon Edwards</td>\n",
       "      <td>1</td>\n",
       "      <td>2019</td>\n",
       "      <td>5</td>\n",
       "      <td>5:00</td>\n",
       "      <td>Boxing</td>\n",
       "    </tr>\n",
       "    <tr>\n",
       "      <th>1</th>\n",
       "      <td>Leon Edwards</td>\n",
       "      <td>1</td>\n",
       "      <td>2019</td>\n",
       "      <td>3</td>\n",
       "      <td>5:00</td>\n",
       "      <td>Boxing</td>\n",
       "    </tr>\n",
       "    <tr>\n",
       "      <th>2</th>\n",
       "      <td>Leon Edwards</td>\n",
       "      <td>1</td>\n",
       "      <td>2018</td>\n",
       "      <td>5</td>\n",
       "      <td>5:00</td>\n",
       "      <td>Boxing</td>\n",
       "    </tr>\n",
       "    <tr>\n",
       "      <th>3</th>\n",
       "      <td>Leon Edwards</td>\n",
       "      <td>1</td>\n",
       "      <td>2018</td>\n",
       "      <td>3</td>\n",
       "      <td>4:59</td>\n",
       "      <td>Boxing</td>\n",
       "    </tr>\n",
       "    <tr>\n",
       "      <th>4</th>\n",
       "      <td>Leon Edwards</td>\n",
       "      <td>1</td>\n",
       "      <td>2017</td>\n",
       "      <td>3</td>\n",
       "      <td>5:00</td>\n",
       "      <td>Boxing</td>\n",
       "    </tr>\n",
       "  </tbody>\n",
       "</table>\n",
       "</div>"
      ],
      "text/plain": [
       "           Name  Result  Date Round  Time   Style\n",
       "0  Leon Edwards       1  2019     5  5:00  Boxing\n",
       "1  Leon Edwards       1  2019     3  5:00  Boxing\n",
       "2  Leon Edwards       1  2018     5  5:00  Boxing\n",
       "3  Leon Edwards       1  2018     3  4:59  Boxing\n",
       "4  Leon Edwards       1  2017     3  5:00  Boxing"
      ]
     },
     "execution_count": 168,
     "metadata": {},
     "output_type": "execute_result"
    }
   ],
   "source": [
    "a.head()"
   ]
  },
  {
   "cell_type": "markdown",
   "metadata": {},
   "source": [
    "# Date vs Style vs Wins"
   ]
  },
  {
   "cell_type": "code",
   "execution_count": 169,
   "metadata": {},
   "outputs": [
    {
     "data": {
      "image/png": "[encoded data removed]",
      "text/plain": [
       "<Figure size 1080x504 with 1 Axes>"
      ]
     },
     "metadata": {},
     "output_type": "display_data"
    }
   ],
   "source": [
    "# plot data\n",
    "import matplotlib.cm as cm\n",
    "fig, ax = plt.subplots(figsize=(15,7))\n",
    "colors = cm.rainbow(np.linspace(0, 1, 9))\n",
    "plt.ylabel('Wins', size = 30)\n",
    "plt.title('UFC- MMA Styles winning fights', size = 30)\n",
    "a[['Date', 'Style','Result']].groupby(['Date', 'Style']).sum()['Result'].unstack().plot(ax=ax,color = colors)\n",
    "plt.savefig('StyleFlow.jpg', bbox_inches = 'tight')"
   ]
  },
  {
   "cell_type": "markdown",
   "metadata": {},
   "source": [
    "# Match Length throughout the years"
   ]
  },
  {
   "cell_type": "code",
   "execution_count": 170,
   "metadata": {},
   "outputs": [
    {
     "data": {
      "text/plain": [
       "Name         0\n",
       "Result       0\n",
       "Date         1\n",
       "Round      222\n",
       "Time      1479\n",
       "Style        0\n",
       "dtype: int64"
      ]
     },
     "execution_count": 170,
     "metadata": {},
     "output_type": "execute_result"
    }
   ],
   "source": [
    "a.isnull().sum(axis =0)"
   ]
  },
  {
   "cell_type": "code",
   "execution_count": 171,
   "metadata": {
    "scrolled": false
   },
   "outputs": [
    {
     "data": {
      "text/plain": [
       "index     0\n",
       "Name      0\n",
       "Result    0\n",
       "Date      1\n",
       "Round     0\n",
       "Time      0\n",
       "Style     0\n",
       "dtype: int64"
      ]
     },
     "execution_count": 171,
     "metadata": {},
     "output_type": "execute_result"
    }
   ],
   "source": [
    "a= a.dropna(subset =['Time','Round']).reset_index()\n",
    "a.isnull().sum(axis =0)\n"
   ]
  },
  {
   "cell_type": "code",
   "execution_count": 172,
   "metadata": {},
   "outputs": [
    {
     "data": {
      "text/html": [
       "<div>\n",
       "<style scoped>\n",
       "    .dataframe tbody tr th:only-of-type {\n",
       "        vertical-align: middle;\n",
       "    }\n",
       "\n",
       "    .dataframe tbody tr th {\n",
       "        vertical-align: top;\n",
       "    }\n",
       "\n",
       "    .dataframe thead th {\n",
       "        text-align: right;\n",
       "    }\n",
       "</style>\n",
       "<table border=\"1\" class=\"dataframe\">\n",
       "  <thead>\n",
       "    <tr style=\"text-align: right;\">\n",
       "      <th></th>\n",
       "      <th>index</th>\n",
       "      <th>Name</th>\n",
       "      <th>Result</th>\n",
       "      <th>Date</th>\n",
       "      <th>Round</th>\n",
       "      <th>Time</th>\n",
       "      <th>Style</th>\n",
       "    </tr>\n",
       "  </thead>\n",
       "  <tbody>\n",
       "    <tr>\n",
       "      <th>0</th>\n",
       "      <td>0</td>\n",
       "      <td>Leon Edwards</td>\n",
       "      <td>1</td>\n",
       "      <td>2019</td>\n",
       "      <td>5</td>\n",
       "      <td>5:00</td>\n",
       "      <td>Boxing</td>\n",
       "    </tr>\n",
       "    <tr>\n",
       "      <th>1</th>\n",
       "      <td>1</td>\n",
       "      <td>Leon Edwards</td>\n",
       "      <td>1</td>\n",
       "      <td>2019</td>\n",
       "      <td>3</td>\n",
       "      <td>5:00</td>\n",
       "      <td>Boxing</td>\n",
       "    </tr>\n",
       "    <tr>\n",
       "      <th>2</th>\n",
       "      <td>2</td>\n",
       "      <td>Leon Edwards</td>\n",
       "      <td>1</td>\n",
       "      <td>2018</td>\n",
       "      <td>5</td>\n",
       "      <td>5:00</td>\n",
       "      <td>Boxing</td>\n",
       "    </tr>\n",
       "    <tr>\n",
       "      <th>3</th>\n",
       "      <td>3</td>\n",
       "      <td>Leon Edwards</td>\n",
       "      <td>1</td>\n",
       "      <td>2018</td>\n",
       "      <td>3</td>\n",
       "      <td>4:59</td>\n",
       "      <td>Boxing</td>\n",
       "    </tr>\n",
       "    <tr>\n",
       "      <th>4</th>\n",
       "      <td>4</td>\n",
       "      <td>Leon Edwards</td>\n",
       "      <td>1</td>\n",
       "      <td>2017</td>\n",
       "      <td>3</td>\n",
       "      <td>5:00</td>\n",
       "      <td>Boxing</td>\n",
       "    </tr>\n",
       "  </tbody>\n",
       "</table>\n",
       "</div>"
      ],
      "text/plain": [
       "   index          Name  Result  Date Round  Time   Style\n",
       "0      0  Leon Edwards       1  2019     5  5:00  Boxing\n",
       "1      1  Leon Edwards       1  2019     3  5:00  Boxing\n",
       "2      2  Leon Edwards       1  2018     5  5:00  Boxing\n",
       "3      3  Leon Edwards       1  2018     3  4:59  Boxing\n",
       "4      4  Leon Edwards       1  2017     3  5:00  Boxing"
      ]
     },
     "execution_count": 172,
     "metadata": {},
     "output_type": "execute_result"
    }
   ],
   "source": [
    "a.head()"
   ]
  },
  {
   "cell_type": "code",
   "execution_count": 175,
   "metadata": {},
   "outputs": [],
   "source": [
    "#Generating total time\n",
    "ooo = []\n",
    "for i in range(len(a['Time'])):\n",
    "    if ':' in a['Time'][i]:\n",
    "        oo= a['Time'][i].split(':')\n",
    "    elif';' in a['Time'][i]:\n",
    "        oo = a['Time'][i].split(';')\n",
    "    else:\n",
    "        oo = a['Time'][i].split('.')\n",
    "    try:\n",
    "        ooo += [(int(oo[0])*60+int(oo[1]))*int(a['Round'][i])/60]\n",
    "    except:\n",
    "        ooo+= [float('Nan')]  \n",
    "a['totalTime'] = ooo "
   ]
  },
  {
   "cell_type": "code",
   "execution_count": 179,
   "metadata": {},
   "outputs": [],
   "source": [
    "#a"
   ]
  },
  {
   "cell_type": "code",
   "execution_count": 177,
   "metadata": {},
   "outputs": [
    {
     "data": {
      "text/plain": [
       "level_0      0\n",
       "index        0\n",
       "Name         0\n",
       "Result       0\n",
       "Date         0\n",
       "Round        0\n",
       "Time         0\n",
       "Style        0\n",
       "totalTime    0\n",
       "dtype: int64"
      ]
     },
     "execution_count": 177,
     "metadata": {},
     "output_type": "execute_result"
    }
   ],
   "source": [
    "a= a.dropna(subset =['totalTime', 'Date']).reset_index()\n",
    "a.isnull().sum(axis =0)"
   ]
  },
  {
   "cell_type": "code",
   "execution_count": 178,
   "metadata": {},
   "outputs": [
    {
     "data": {
      "image/png": "[encoded data removed]",
      "text/plain": [
       "<Figure size 1080x504 with 1 Axes>"
      ]
     },
     "metadata": {},
     "output_type": "display_data"
    }
   ],
   "source": [
    "plt.style.use(\"ggplot\")\n",
    "fig, ax = plt.subplots(figsize=(15,7))\n",
    "a[['Date','totalTime']].groupby('Date').median()['totalTime'].plot(ax=ax)\n",
    "plt.xlabel('Year', size = 20)\n",
    "plt.ylabel('Median Time before stop(in min)', size = 20)\n",
    "plt.title('\\\"Match finish time trend\\\"', size = 30)\n",
    "plt.savefig('Finish_time.jpg', bbox = 'tight')\n",
    "plt.show()"
   ]
  },
  {
   "cell_type": "markdown",
   "metadata": {},
   "source": [
    "# Which style has more champions?\n"
   ]
  },
  {
   "cell_type": "code",
   "execution_count": 181,
   "metadata": {},
   "outputs": [],
   "source": [
    "champion = pd.read_csv('findchampion', header = None)"
   ]
  },
  {
   "cell_type": "code",
   "execution_count": 201,
   "metadata": {},
   "outputs": [],
   "source": [
    "aka=[champion[0][i].split('<SEPARATOR>')for i in range(len(champion))]"
   ]
  },
  {
   "cell_type": "code",
   "execution_count": 212,
   "metadata": {},
   "outputs": [],
   "source": [
    "championList=[]\n",
    "for i in range(len(aka)):\n",
    "    if '(c)' in aka[i][0]:\n",
    "        championList.append(aka[i][0])\n",
    "    "
   ]
  },
  {
   "cell_type": "code",
   "execution_count": 273,
   "metadata": {},
   "outputs": [],
   "source": [
    "championList = [championList[i].strip(' (c) ') for i in range(len(championList))]\n",
    "#championList"
   ]
  },
  {
   "cell_type": "code",
   "execution_count": 255,
   "metadata": {},
   "outputs": [],
   "source": [
    "champDict ={}\n",
    "for champ in championList:\n",
    "    champDict[champ] =Try.loc[Try.Name.str.contains(champ), 'Style'].values[0]\n"
   ]
  },
  {
   "cell_type": "code",
   "execution_count": 267,
   "metadata": {},
   "outputs": [],
   "source": [
    "#champDict\n",
    "aaaaa = Counter(champDict.values())"
   ]
  },
  {
   "cell_type": "code",
   "execution_count": 279,
   "metadata": {},
   "outputs": [
    {
     "data": {
      "image/png": "[encoded data removed]",
      "text/plain": [
       "<Figure size 936x504 with 1 Axes>"
      ]
     },
     "metadata": {},
     "output_type": "display_data"
    }
   ],
   "source": [
    "plt.figure(figsize = (13,7))\n",
    "plt.barh(*zip(*aaaaa.items()))\n",
    "plt.title('Champions major fighting style', size=15)\n",
    "plt.xlabel('Number of champions', size =14)\n",
    "plt.ylabel('Styles', size = 14)\n",
    "plt.savefig('Champions\\' style.jpg', bbox = 'tight')\n",
    "plt.show()"
   ]
  },
  {
   "cell_type": "markdown",
   "metadata": {},
   "source": [
    "# Saving the cleaned files."
   ]
  },
  {
   "cell_type": "code",
   "execution_count": 117,
   "metadata": {},
   "outputs": [],
   "source": [
    "tosave= pd.merge(fighters.drop(['Style','Age'],axis=1),Try.drop(['Win_Method'],axis =1),on = 'Name')"
   ]
  },
  {
   "cell_type": "code",
   "execution_count": 118,
   "metadata": {},
   "outputs": [
    {
     "data": {
      "text/html": [
       "<div>\n",
       "<style scoped>\n",
       "    .dataframe tbody tr th:only-of-type {\n",
       "        vertical-align: middle;\n",
       "    }\n",
       "\n",
       "    .dataframe tbody tr th {\n",
       "        vertical-align: top;\n",
       "    }\n",
       "\n",
       "    .dataframe thead th {\n",
       "        text-align: right;\n",
       "    }\n",
       "</style>\n",
       "<table border=\"1\" class=\"dataframe\">\n",
       "  <thead>\n",
       "    <tr style=\"text-align: right;\">\n",
       "      <th></th>\n",
       "      <th>Name</th>\n",
       "      <th>Height</th>\n",
       "      <th>Weight</th>\n",
       "      <th>Division</th>\n",
       "      <th>Reach</th>\n",
       "      <th>Birth_date</th>\n",
       "      <th>ID</th>\n",
       "      <th>Style</th>\n",
       "      <th>Wins</th>\n",
       "    </tr>\n",
       "  </thead>\n",
       "  <tbody>\n",
       "    <tr>\n",
       "      <th>0</th>\n",
       "      <td>Leon Edwards</td>\n",
       "      <td>74.0</td>\n",
       "      <td>170.0</td>\n",
       "      <td>Middleweight</td>\n",
       "      <td>74.0</td>\n",
       "      <td>1991-08-25</td>\n",
       "      <td>852</td>\n",
       "      <td>Boxing</td>\n",
       "      <td>18</td>\n",
       "    </tr>\n",
       "    <tr>\n",
       "      <th>1</th>\n",
       "      <td>Rafael dos Anjos</td>\n",
       "      <td>68.0</td>\n",
       "      <td>170.0</td>\n",
       "      <td>Welterweight</td>\n",
       "      <td>70.0</td>\n",
       "      <td>1984-10-26</td>\n",
       "      <td>1138</td>\n",
       "      <td>BJJ</td>\n",
       "      <td>29</td>\n",
       "    </tr>\n",
       "    <tr>\n",
       "      <th>2</th>\n",
       "      <td>Walt Harris</td>\n",
       "      <td>77.0</td>\n",
       "      <td>258.0</td>\n",
       "      <td>Heavyweight</td>\n",
       "      <td>81.0</td>\n",
       "      <td>1983-06-10</td>\n",
       "      <td>1437</td>\n",
       "      <td>Karate</td>\n",
       "      <td>13</td>\n",
       "    </tr>\n",
       "    <tr>\n",
       "      <th>3</th>\n",
       "      <td>Aleksei Oleinik</td>\n",
       "      <td>74.0</td>\n",
       "      <td>235.0</td>\n",
       "      <td>Heavyweight</td>\n",
       "      <td>80.0</td>\n",
       "      <td>1977-06-25</td>\n",
       "      <td>28</td>\n",
       "      <td>BJJ</td>\n",
       "      <td>34</td>\n",
       "    </tr>\n",
       "    <tr>\n",
       "      <th>4</th>\n",
       "      <td>Greg Hardy</td>\n",
       "      <td>77.0</td>\n",
       "      <td>265.0</td>\n",
       "      <td>Heavyweight</td>\n",
       "      <td>80.5</td>\n",
       "      <td>1988-07-28</td>\n",
       "      <td>519</td>\n",
       "      <td>Boxing</td>\n",
       "      <td>5</td>\n",
       "    </tr>\n",
       "  </tbody>\n",
       "</table>\n",
       "</div>"
      ],
      "text/plain": [
       "               Name  Height  Weight      Division  Reach  Birth_date    ID  \\\n",
       "0      Leon Edwards    74.0   170.0  Middleweight   74.0  1991-08-25   852   \n",
       "1  Rafael dos Anjos    68.0   170.0  Welterweight   70.0  1984-10-26  1138   \n",
       "2       Walt Harris    77.0   258.0   Heavyweight   81.0  1983-06-10  1437   \n",
       "3   Aleksei Oleinik    74.0   235.0   Heavyweight   80.0  1977-06-25    28   \n",
       "4        Greg Hardy    77.0   265.0   Heavyweight   80.5  1988-07-28   519   \n",
       "\n",
       "    Style  Wins  \n",
       "0  Boxing    18  \n",
       "1     BJJ    29  \n",
       "2  Karate    13  \n",
       "3     BJJ    34  \n",
       "4  Boxing     5  "
      ]
     },
     "execution_count": 118,
     "metadata": {},
     "output_type": "execute_result"
    }
   ],
   "source": [
    "tosave.head()"
   ]
  },
  {
   "cell_type": "code",
   "execution_count": 119,
   "metadata": {},
   "outputs": [],
   "source": [
    "header = [\"Name\", \"Height\", \"Weight\", \"Division\", \"Reach\",\"Birth_date\", \"ID\", \"Style\",\"Wins\"]\n",
    "tosave.to_csv(\"fighters.csv\", columns = header, index = False)"
   ]
  },
  {
   "cell_type": "code",
   "execution_count": 120,
   "metadata": {},
   "outputs": [
    {
     "data": {
      "text/html": [
       "<div>\n",
       "<style scoped>\n",
       "    .dataframe tbody tr th:only-of-type {\n",
       "        vertical-align: middle;\n",
       "    }\n",
       "\n",
       "    .dataframe tbody tr th {\n",
       "        vertical-align: top;\n",
       "    }\n",
       "\n",
       "    .dataframe thead th {\n",
       "        text-align: right;\n",
       "    }\n",
       "</style>\n",
       "<table border=\"1\" class=\"dataframe\">\n",
       "  <thead>\n",
       "    <tr style=\"text-align: right;\">\n",
       "      <th></th>\n",
       "      <th>Fighter_name</th>\n",
       "      <th>Result</th>\n",
       "      <th>Record</th>\n",
       "      <th>Opponent</th>\n",
       "      <th>Method</th>\n",
       "      <th>Event</th>\n",
       "      <th>Date</th>\n",
       "      <th>Round</th>\n",
       "      <th>Time</th>\n",
       "    </tr>\n",
       "  </thead>\n",
       "  <tbody>\n",
       "    <tr>\n",
       "      <th>0</th>\n",
       "      <td>Leon Edwards</td>\n",
       "      <td>Win</td>\n",
       "      <td>18–3</td>\n",
       "      <td>Rafael dos Anjos</td>\n",
       "      <td>Decision (unanimous)</td>\n",
       "      <td>UFC on ESPN: dos Anjos vs. Edwards</td>\n",
       "      <td>20 July 2019</td>\n",
       "      <td>5</td>\n",
       "      <td>5:00</td>\n",
       "    </tr>\n",
       "    <tr>\n",
       "      <th>1</th>\n",
       "      <td>Leon Edwards</td>\n",
       "      <td>Win</td>\n",
       "      <td>17–3</td>\n",
       "      <td>Gunnar Nelson</td>\n",
       "      <td>Decision (split)</td>\n",
       "      <td>UFC Fight Night: Till vs. Masvidal</td>\n",
       "      <td>16 March 2019</td>\n",
       "      <td>3</td>\n",
       "      <td>5:00</td>\n",
       "    </tr>\n",
       "    <tr>\n",
       "      <th>2</th>\n",
       "      <td>Leon Edwards</td>\n",
       "      <td>Win</td>\n",
       "      <td>16–3</td>\n",
       "      <td>Donald Cerrone</td>\n",
       "      <td>Decision (unanimous)</td>\n",
       "      <td>UFC Fight Night: Cowboy vs. Edwards</td>\n",
       "      <td>23 June 2018</td>\n",
       "      <td>5</td>\n",
       "      <td>5:00</td>\n",
       "    </tr>\n",
       "    <tr>\n",
       "      <th>3</th>\n",
       "      <td>Leon Edwards</td>\n",
       "      <td>Win</td>\n",
       "      <td>15–3</td>\n",
       "      <td>Peter Sobotta</td>\n",
       "      <td>TKO (punches)</td>\n",
       "      <td>UFC Fight Night: Werdum vs. Volkov</td>\n",
       "      <td>17 March 2018</td>\n",
       "      <td>3</td>\n",
       "      <td>4:59</td>\n",
       "    </tr>\n",
       "    <tr>\n",
       "      <th>4</th>\n",
       "      <td>Leon Edwards</td>\n",
       "      <td>Win</td>\n",
       "      <td>14–3</td>\n",
       "      <td>Bryan Barberena</td>\n",
       "      <td>Decision (unanimous)</td>\n",
       "      <td>UFC Fight Night: Volkov vs. Struve</td>\n",
       "      <td>2 September 2017</td>\n",
       "      <td>3</td>\n",
       "      <td>5:00</td>\n",
       "    </tr>\n",
       "  </tbody>\n",
       "</table>\n",
       "</div>"
      ],
      "text/plain": [
       "   Fighter_name Result Record          Opponent                Method  \\\n",
       "0  Leon Edwards    Win   18–3  Rafael dos Anjos  Decision (unanimous)   \n",
       "1  Leon Edwards    Win   17–3     Gunnar Nelson      Decision (split)   \n",
       "2  Leon Edwards    Win   16–3    Donald Cerrone  Decision (unanimous)   \n",
       "3  Leon Edwards    Win   15–3     Peter Sobotta         TKO (punches)   \n",
       "4  Leon Edwards    Win   14–3   Bryan Barberena  Decision (unanimous)   \n",
       "\n",
       "                                 Event              Date Round  Time  \n",
       "0   UFC on ESPN: dos Anjos vs. Edwards      20 July 2019     5  5:00  \n",
       "1   UFC Fight Night: Till vs. Masvidal     16 March 2019     3  5:00  \n",
       "2  UFC Fight Night: Cowboy vs. Edwards      23 June 2018     5  5:00  \n",
       "3   UFC Fight Night: Werdum vs. Volkov     17 March 2018     3  4:59  \n",
       "4   UFC Fight Night: Volkov vs. Struve  2 September 2017     3  5:00  "
      ]
     },
     "execution_count": 120,
     "metadata": {},
     "output_type": "execute_result"
    }
   ],
   "source": [
    "fights.head()"
   ]
  },
  {
   "cell_type": "code",
   "execution_count": 121,
   "metadata": {},
   "outputs": [],
   "source": [
    "header = [\"Fighter_name\", \"Result\", \"Record\", \"Opponent\", \"Method\",\"Event\", \"Date\", \"Round\",\"Time\"]\n",
    "fights.to_csv(\"fights.csv\", columns = header, index = False)"
   ]
  },
  {
   "cell_type": "code",
   "execution_count": null,
   "metadata": {},
   "outputs": [],
   "source": []
  },
  {
   "cell_type": "code",
   "execution_count": null,
   "metadata": {},
   "outputs": [],
   "source": []
  },
  {
   "cell_type": "code",
   "execution_count": null,
   "metadata": {},
   "outputs": [],
   "source": []
  }
 ],
 "metadata": {
  "kernelspec": {
   "display_name": "Python 3",
   "language": "python",
   "name": "python3"
  },
  "language_info": {
   "codemirror_mode": {
    "name": "ipython",
    "version": 3
   },
   "file_extension": ".py",
   "mimetype": "text/x-python",
   "name": "python",
   "nbconvert_exporter": "python",
   "pygments_lexer": "ipython3",
   "version": "3.7.3"
  }
 },
 "nbformat": 4,
 "nbformat_minor": 2
}
